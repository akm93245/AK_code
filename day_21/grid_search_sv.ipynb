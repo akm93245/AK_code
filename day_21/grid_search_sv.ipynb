{
 "cells": [
  {
   "cell_type": "code",
   "execution_count": 2,
   "metadata": {},
   "outputs": [],
   "source": [
    "import pandas as pd\n",
    "import numpy as np\n",
    "import seaborn as sns\n",
    "import matplotlib.pyplot as plt\n",
    "\n",
    "from sklearn.metrics import precision_score,recall_score,f1_score,accuracy_score\n",
    "from sklearn.model_selection import train_test_split\n",
    "from sklearn.linear_model import LogisticRegression\n",
    "from sklearn.svm import SVC\n",
    "from sklearn.tree import DecisionTreeClassifier\n",
    "from sklearn.ensemble import RandomForestClassifier\n",
    "from sklearn.neighbors import KNeighborsClassifier\n",
    "\n",
    "from sklearn.metrics import r2_score, mean_squared_error,mean_absolute_error,root_mean_squared_error\n",
    "from sklearn.linear_model import LinearRegression\n",
    "from sklearn.svm import SVR\n",
    "from sklearn.tree import DecisionTreeRegressor\n",
    "from sklearn.ensemble import RandomForestRegressor\n",
    "from sklearn.neighbors import KNeighborsRegressor"
   ]
  },
  {
   "cell_type": "code",
   "execution_count": 11,
   "metadata": {},
   "outputs": [
    {
     "name": "stdout",
     "output_type": "stream",
     "text": [
      "{'copy_X': True, 'fit_intercept': True, 'n_jobs': None, 'positive': False}\n"
     ]
    }
   ],
   "source": [
    "model = LinearRegression()\n",
    "\n",
    "print(model.get_params())"
   ]
  },
  {
   "cell_type": "code",
   "execution_count": 4,
   "metadata": {},
   "outputs": [
    {
     "name": "stdout",
     "output_type": "stream",
     "text": [
      "{'algorithm': 'auto', 'leaf_size': 30, 'metric': 'minkowski', 'metric_params': None, 'n_jobs': None, 'n_neighbors': 5, 'p': 2, 'weights': 'uniform'}\n"
     ]
    }
   ],
   "source": [
    "model = KNeighborsClassifier()\n",
    "\n",
    "print(model.get_params())"
   ]
  },
  {
   "cell_type": "code",
   "execution_count": 5,
   "metadata": {},
   "outputs": [
    {
     "name": "stdout",
     "output_type": "stream",
     "text": [
      "{'algorithm': 'auto', 'leaf_size': 30, 'metric': 'minkowski', 'metric_params': None, 'n_jobs': None, 'n_neighbors': 5, 'p': 2, 'weights': 'uniform'}\n"
     ]
    }
   ],
   "source": [
    "model = KNeighborsRegressor()\n",
    "\n",
    "print(model.get_params())"
   ]
  },
  {
   "cell_type": "code",
   "execution_count": 6,
   "metadata": {},
   "outputs": [
    {
     "name": "stdout",
     "output_type": "stream",
     "text": [
      "{'bootstrap': True, 'ccp_alpha': 0.0, 'class_weight': None, 'criterion': 'gini', 'max_depth': None, 'max_features': 'sqrt', 'max_leaf_nodes': None, 'max_samples': None, 'min_impurity_decrease': 0.0, 'min_samples_leaf': 1, 'min_samples_split': 2, 'min_weight_fraction_leaf': 0.0, 'monotonic_cst': None, 'n_estimators': 100, 'n_jobs': None, 'oob_score': False, 'random_state': None, 'verbose': 0, 'warm_start': False}\n"
     ]
    }
   ],
   "source": [
    "model = RandomForestClassifier()\n",
    "\n",
    "print(model.get_params())"
   ]
  },
  {
   "cell_type": "code",
   "execution_count": 7,
   "metadata": {},
   "outputs": [
    {
     "name": "stdout",
     "output_type": "stream",
     "text": [
      "{'bootstrap': True, 'ccp_alpha': 0.0, 'criterion': 'squared_error', 'max_depth': None, 'max_features': 1.0, 'max_leaf_nodes': None, 'max_samples': None, 'min_impurity_decrease': 0.0, 'min_samples_leaf': 1, 'min_samples_split': 2, 'min_weight_fraction_leaf': 0.0, 'monotonic_cst': None, 'n_estimators': 100, 'n_jobs': None, 'oob_score': False, 'random_state': None, 'verbose': 0, 'warm_start': False}\n"
     ]
    }
   ],
   "source": [
    "model = RandomForestRegressor()\n",
    "\n",
    "print(model.get_params())"
   ]
  },
  {
   "cell_type": "code",
   "execution_count": 8,
   "metadata": {},
   "outputs": [
    {
     "name": "stdout",
     "output_type": "stream",
     "text": [
      "{'C': 1.0, 'class_weight': None, 'dual': False, 'fit_intercept': True, 'intercept_scaling': 1, 'l1_ratio': None, 'max_iter': 100, 'multi_class': 'deprecated', 'n_jobs': None, 'penalty': 'l2', 'random_state': None, 'solver': 'lbfgs', 'tol': 0.0001, 'verbose': 0, 'warm_start': False}\n"
     ]
    }
   ],
   "source": [
    "model = LogisticRegression()\n",
    "\n",
    "print(model.get_params())"
   ]
  },
  {
   "cell_type": "code",
   "execution_count": 10,
   "metadata": {},
   "outputs": [
    {
     "name": "stderr",
     "output_type": "stream",
     "text": [
      "C:\\Users\\khattak\\AppData\\Local\\Temp\\ipykernel_2708\\3863266051.py:4: FutureWarning: A value is trying to be set on a copy of a DataFrame or Series through chained assignment using an inplace method.\n",
      "The behavior will change in pandas 3.0. This inplace method will never work because the intermediate object on which we are setting values always behaves as a copy.\n",
      "\n",
      "For example, when doing 'df[col].method(value, inplace=True)', try using 'df.method({col: value}, inplace=True)' or df[col] = df[col].method(value) instead, to perform the operation inplace on the original object.\n",
      "\n",
      "\n",
      "  X.age.fillna(X.age.mean(),inplace=True)\n",
      "C:\\Users\\khattak\\AppData\\Local\\Temp\\ipykernel_2708\\3863266051.py:4: SettingWithCopyWarning: \n",
      "A value is trying to be set on a copy of a slice from a DataFrame\n",
      "\n",
      "See the caveats in the documentation: https://pandas.pydata.org/pandas-docs/stable/user_guide/indexing.html#returning-a-view-versus-a-copy\n",
      "  X.age.fillna(X.age.mean(),inplace=True)\n"
     ]
    }
   ],
   "source": [
    "df = sns.load_dataset('titanic')\n",
    "X =  df[['age']]\n",
    "y = df['fare']\n",
    "X.age.fillna(X.age.mean(),inplace=True)"
   ]
  },
  {
   "cell_type": "markdown",
   "metadata": {},
   "source": [
    "___\n",
    "**finding the best parameter**\n",
    "\n",
    "we can customize the model parameter by grid search cv"
   ]
  },
  {
   "cell_type": "code",
   "execution_count": 12,
   "metadata": {},
   "outputs": [
    {
     "name": "stdout",
     "output_type": "stream",
     "text": [
      "Best parameter :  {'fit_intercept': True}\n"
     ]
    }
   ],
   "source": [
    "from sklearn.model_selection import GridSearchCV\n",
    "\n",
    "#creating the model\n",
    "model = LinearRegression()\n",
    "\n",
    "# define parameter grisd\n",
    "grid_params = {'fit_intercept':[True, False]}\n",
    "\n",
    "# object gird search cv (creating he model)\n",
    "grid_search = GridSearchCV(model , grid_params , cv=5 ,scoring='r2')\n",
    "\n",
    "# fitting the model\n",
    "grid_search.fit(X,y)\n",
    "\n",
    "# printing the best parameter\n",
    "\n",
    "print(\"Best parameter : \", grid_search.best_params_)\n"
   ]
  },
  {
   "cell_type": "markdown",
   "metadata": {},
   "source": [
    "___"
   ]
  },
  {
   "cell_type": "markdown",
   "metadata": {},
   "source": [
    "**doing the same on kNN with more data**\n"
   ]
  },
  {
   "cell_type": "code",
   "execution_count": 23,
   "metadata": {},
   "outputs": [
    {
     "name": "stderr",
     "output_type": "stream",
     "text": [
      "C:\\Users\\khattak\\AppData\\Local\\Temp\\ipykernel_2708\\1942008193.py:4: SettingWithCopyWarning: \n",
      "A value is trying to be set on a copy of a slice from a DataFrame.\n",
      "Try using .loc[row_indexer,col_indexer] = value instead\n",
      "\n",
      "See the caveats in the documentation: https://pandas.pydata.org/pandas-docs/stable/user_guide/indexing.html#returning-a-view-versus-a-copy\n",
      "  X.sex = X.sex.map({'male': 0,'female': 1})\n",
      "C:\\Users\\khattak\\AppData\\Local\\Temp\\ipykernel_2708\\1942008193.py:5: FutureWarning: A value is trying to be set on a copy of a DataFrame or Series through chained assignment using an inplace method.\n",
      "The behavior will change in pandas 3.0. This inplace method will never work because the intermediate object on which we are setting values always behaves as a copy.\n",
      "\n",
      "For example, when doing 'df[col].method(value, inplace=True)', try using 'df.method({col: value}, inplace=True)' or df[col] = df[col].method(value) instead, to perform the operation inplace on the original object.\n",
      "\n",
      "\n",
      "  X.age.fillna(X.age.mean(),inplace=True)\n",
      "C:\\Users\\khattak\\AppData\\Local\\Temp\\ipykernel_2708\\1942008193.py:5: SettingWithCopyWarning: \n",
      "A value is trying to be set on a copy of a slice from a DataFrame\n",
      "\n",
      "See the caveats in the documentation: https://pandas.pydata.org/pandas-docs/stable/user_guide/indexing.html#returning-a-view-versus-a-copy\n",
      "  X.age.fillna(X.age.mean(),inplace=True)\n"
     ]
    },
    {
     "name": "stdout",
     "output_type": "stream",
     "text": [
      "Best parameter :  {'n_neighbors': 7}\n",
      "Best Score :  0.6248448833306469\n"
     ]
    }
   ],
   "source": [
    "df = sns.load_dataset('titanic')\n",
    "X =  df[['pclass','sex','age','sibsp','parch','fare']]\n",
    "y = df['survived']\n",
    "X.sex = X.sex.map({'male': 0,'female': 1})\n",
    "X.age.fillna(X.age.mean(),inplace=True)\n",
    "\n",
    "\n",
    "model = KNeighborsClassifier()\n",
    "\n",
    "# define parameter grisd\n",
    "grid_params = {'n_neighbors': [3,5,7]}\n",
    "\n",
    "# object gird search cv (creating he model)\n",
    "grid_search = GridSearchCV(model , grid_params , cv=5 ,scoring='precision')\n",
    "\n",
    "# fitting the model\n",
    "grid_search.fit(X,y)\n",
    "\n",
    "# printing the best parameter\n",
    "\n",
    "print(\"Best parameter : \", grid_search.best_params_)\n",
    "print(\"Best Score : \", grid_search.best_score_)"
   ]
  },
  {
   "cell_type": "code",
   "execution_count": 25,
   "metadata": {},
   "outputs": [
    {
     "name": "stderr",
     "output_type": "stream",
     "text": [
      "C:\\Users\\khattak\\AppData\\Local\\Temp\\ipykernel_2708\\2797481976.py:4: SettingWithCopyWarning: \n",
      "A value is trying to be set on a copy of a slice from a DataFrame.\n",
      "Try using .loc[row_indexer,col_indexer] = value instead\n",
      "\n",
      "See the caveats in the documentation: https://pandas.pydata.org/pandas-docs/stable/user_guide/indexing.html#returning-a-view-versus-a-copy\n",
      "  X.sex = X.sex.map({'male': 0,'female': 1})\n",
      "C:\\Users\\khattak\\AppData\\Local\\Temp\\ipykernel_2708\\2797481976.py:5: FutureWarning: A value is trying to be set on a copy of a DataFrame or Series through chained assignment using an inplace method.\n",
      "The behavior will change in pandas 3.0. This inplace method will never work because the intermediate object on which we are setting values always behaves as a copy.\n",
      "\n",
      "For example, when doing 'df[col].method(value, inplace=True)', try using 'df.method({col: value}, inplace=True)' or df[col] = df[col].method(value) instead, to perform the operation inplace on the original object.\n",
      "\n",
      "\n",
      "  X.age.fillna(X.age.mean(),inplace=True)\n",
      "C:\\Users\\khattak\\AppData\\Local\\Temp\\ipykernel_2708\\2797481976.py:5: SettingWithCopyWarning: \n",
      "A value is trying to be set on a copy of a slice from a DataFrame\n",
      "\n",
      "See the caveats in the documentation: https://pandas.pydata.org/pandas-docs/stable/user_guide/indexing.html#returning-a-view-versus-a-copy\n",
      "  X.age.fillna(X.age.mean(),inplace=True)\n"
     ]
    },
    {
     "name": "stdout",
     "output_type": "stream",
     "text": [
      "Best parameter :  {'n_neighbors': 7, 'weights': 'distance'}\n",
      "Best Score :  0.6325155095193368\n"
     ]
    }
   ],
   "source": [
    "df = sns.load_dataset('titanic')\n",
    "X =  df[['pclass','sex','age','sibsp','parch','fare']]\n",
    "y = df['survived']\n",
    "X.sex = X.sex.map({'male': 0,'female': 1})\n",
    "X.age.fillna(X.age.mean(),inplace=True)\n",
    "\n",
    "\n",
    "model = KNeighborsClassifier()\n",
    "\n",
    "# define parameter grisd\n",
    "grid_params = {'n_neighbors': [3,5,7], 'weights': ['uniform','distance']}\n",
    "\n",
    "# object gird search cv (creating he model)\n",
    "grid_search = GridSearchCV(model , grid_params , cv=5 ,scoring='precision')\n",
    "\n",
    "# fitting the model\n",
    "grid_search.fit(X,y)\n",
    "\n",
    "# printing the best parameter\n",
    "print(\"Best parameter : \", grid_search.best_params_)\n",
    "print(\"Best Score : \", grid_search.best_score_)"
   ]
  },
  {
   "cell_type": "code",
   "execution_count": 26,
   "metadata": {},
   "outputs": [
    {
     "name": "stderr",
     "output_type": "stream",
     "text": [
      "C:\\Users\\khattak\\AppData\\Local\\Temp\\ipykernel_2708\\1370150907.py:4: SettingWithCopyWarning: \n",
      "A value is trying to be set on a copy of a slice from a DataFrame.\n",
      "Try using .loc[row_indexer,col_indexer] = value instead\n",
      "\n",
      "See the caveats in the documentation: https://pandas.pydata.org/pandas-docs/stable/user_guide/indexing.html#returning-a-view-versus-a-copy\n",
      "  X.sex = X.sex.map({'male': 0,'female': 1})\n",
      "C:\\Users\\khattak\\AppData\\Local\\Temp\\ipykernel_2708\\1370150907.py:5: FutureWarning: A value is trying to be set on a copy of a DataFrame or Series through chained assignment using an inplace method.\n",
      "The behavior will change in pandas 3.0. This inplace method will never work because the intermediate object on which we are setting values always behaves as a copy.\n",
      "\n",
      "For example, when doing 'df[col].method(value, inplace=True)', try using 'df.method({col: value}, inplace=True)' or df[col] = df[col].method(value) instead, to perform the operation inplace on the original object.\n",
      "\n",
      "\n",
      "  X.age.fillna(X.age.mean(),inplace=True)\n",
      "C:\\Users\\khattak\\AppData\\Local\\Temp\\ipykernel_2708\\1370150907.py:5: SettingWithCopyWarning: \n",
      "A value is trying to be set on a copy of a slice from a DataFrame\n",
      "\n",
      "See the caveats in the documentation: https://pandas.pydata.org/pandas-docs/stable/user_guide/indexing.html#returning-a-view-versus-a-copy\n",
      "  X.age.fillna(X.age.mean(),inplace=True)\n"
     ]
    },
    {
     "name": "stdout",
     "output_type": "stream",
     "text": [
      "Best parameter :  {'metric': 'manhattan', 'n_neighbors': 5, 'weights': 'uniform'}\n",
      "Best Score :  0.6626226059786438\n"
     ]
    }
   ],
   "source": [
    "df = sns.load_dataset('titanic')\n",
    "X =  df[['pclass','sex','age','sibsp','parch','fare']]\n",
    "y = df['survived']\n",
    "X.sex = X.sex.map({'male': 0,'female': 1})\n",
    "X.age.fillna(X.age.mean(),inplace=True)\n",
    "\n",
    "\n",
    "model = KNeighborsClassifier()\n",
    "\n",
    "# define parameter grisd\n",
    "grid_params = {'n_neighbors': [3,5,7], 'weights': ['uniform','distance'], 'metric': ['minkowski', 'euclidean' ,'manhattan']}\n",
    "\n",
    "# object gird search cv (creating he model)\n",
    "grid_search = GridSearchCV(model , grid_params , cv=5 ,scoring='precision')\n",
    "\n",
    "# fitting the model\n",
    "grid_search.fit(X,y)\n",
    "\n",
    "# printing the best parameter\n",
    "print(\"Best parameter : \", grid_search.best_params_)\n",
    "print(\"Best Score : \", grid_search.best_score_)"
   ]
  },
  {
   "cell_type": "code",
   "execution_count": 28,
   "metadata": {},
   "outputs": [
    {
     "name": "stderr",
     "output_type": "stream",
     "text": [
      "C:\\Users\\khattak\\AppData\\Local\\Temp\\ipykernel_2708\\926723192.py:4: SettingWithCopyWarning: \n",
      "A value is trying to be set on a copy of a slice from a DataFrame.\n",
      "Try using .loc[row_indexer,col_indexer] = value instead\n",
      "\n",
      "See the caveats in the documentation: https://pandas.pydata.org/pandas-docs/stable/user_guide/indexing.html#returning-a-view-versus-a-copy\n",
      "  X.sex = X.sex.map({'male': 0,'female': 1})\n",
      "C:\\Users\\khattak\\AppData\\Local\\Temp\\ipykernel_2708\\926723192.py:5: FutureWarning: A value is trying to be set on a copy of a DataFrame or Series through chained assignment using an inplace method.\n",
      "The behavior will change in pandas 3.0. This inplace method will never work because the intermediate object on which we are setting values always behaves as a copy.\n",
      "\n",
      "For example, when doing 'df[col].method(value, inplace=True)', try using 'df.method({col: value}, inplace=True)' or df[col] = df[col].method(value) instead, to perform the operation inplace on the original object.\n",
      "\n",
      "\n",
      "  X.age.fillna(X.age.mean(),inplace=True)\n",
      "C:\\Users\\khattak\\AppData\\Local\\Temp\\ipykernel_2708\\926723192.py:5: SettingWithCopyWarning: \n",
      "A value is trying to be set on a copy of a slice from a DataFrame\n",
      "\n",
      "See the caveats in the documentation: https://pandas.pydata.org/pandas-docs/stable/user_guide/indexing.html#returning-a-view-versus-a-copy\n",
      "  X.age.fillna(X.age.mean(),inplace=True)\n"
     ]
    },
    {
     "name": "stdout",
     "output_type": "stream",
     "text": [
      "Best parameter :  {'leaf_size': 30, 'metric': 'manhattan', 'n_jobs': None, 'n_neighbors': 5, 'weights': 'uniform'}\n",
      "Best Score :  0.6626226059786438\n"
     ]
    },
    {
     "name": "stderr",
     "output_type": "stream",
     "text": [
      "c:\\Users\\khattak\\AppData\\Local\\Programs\\Python\\Python311\\Lib\\site-packages\\numpy\\ma\\core.py:2881: RuntimeWarning: invalid value encountered in cast\n",
      "  _data = np.array(data, dtype=dtype, copy=copy,\n"
     ]
    }
   ],
   "source": [
    "df = sns.load_dataset('titanic')\n",
    "X =  df[['pclass','sex','age','sibsp','parch','fare']]\n",
    "y = df['survived']\n",
    "X.sex = X.sex.map({'male': 0,'female': 1})\n",
    "X.age.fillna(X.age.mean(),inplace=True)\n",
    "\n",
    "\n",
    "model = KNeighborsClassifier()\n",
    "\n",
    "# define parameter grisd\n",
    "grid_params = {'n_neighbors': [3,5,7], 'weights': ['uniform','distance'], 'metric': ['minkowski', 'euclidean' ,'manhattan'],'leaf_size': [20,30,40,50],'n_jobs': [None,5]}\n",
    "\n",
    "# object gird search cv (creating he model)\n",
    "grid_search = GridSearchCV(model , grid_params , cv=5 ,scoring='precision')\n",
    "\n",
    "# fitting the model\n",
    "grid_search.fit(X,y)\n",
    "\n",
    "# printing the best parameter\n",
    "print(\"Best parameter : \", grid_search.best_params_)\n",
    "print(\"Best Score : \", grid_search.best_score_)"
   ]
  },
  {
   "cell_type": "code",
   "execution_count": 31,
   "metadata": {},
   "outputs": [
    {
     "name": "stderr",
     "output_type": "stream",
     "text": [
      "C:\\Users\\khattak\\AppData\\Local\\Temp\\ipykernel_2708\\2099663243.py:6: SettingWithCopyWarning: \n",
      "A value is trying to be set on a copy of a slice from a DataFrame.\n",
      "Try using .loc[row_indexer,col_indexer] = value instead\n",
      "\n",
      "See the caveats in the documentation: https://pandas.pydata.org/pandas-docs/stable/user_guide/indexing.html#returning-a-view-versus-a-copy\n",
      "  X.sex = X.sex.map({'male': 0,'female': 1})\n",
      "C:\\Users\\khattak\\AppData\\Local\\Temp\\ipykernel_2708\\2099663243.py:7: FutureWarning: A value is trying to be set on a copy of a DataFrame or Series through chained assignment using an inplace method.\n",
      "The behavior will change in pandas 3.0. This inplace method will never work because the intermediate object on which we are setting values always behaves as a copy.\n",
      "\n",
      "For example, when doing 'df[col].method(value, inplace=True)', try using 'df.method({col: value}, inplace=True)' or df[col] = df[col].method(value) instead, to perform the operation inplace on the original object.\n",
      "\n",
      "\n",
      "  X.age.fillna(X.age.mean(),inplace=True)\n",
      "C:\\Users\\khattak\\AppData\\Local\\Temp\\ipykernel_2708\\2099663243.py:7: SettingWithCopyWarning: \n",
      "A value is trying to be set on a copy of a slice from a DataFrame\n",
      "\n",
      "See the caveats in the documentation: https://pandas.pydata.org/pandas-docs/stable/user_guide/indexing.html#returning-a-view-versus-a-copy\n",
      "  X.age.fillna(X.age.mean(),inplace=True)\n"
     ]
    },
    {
     "name": "stdout",
     "output_type": "stream",
     "text": [
      "Best parameter :  {'n_neighbors': np.int64(32)}\n",
      "Best Score :  0.6830665547618662\n"
     ]
    }
   ],
   "source": [
    "import numpy as np\n",
    "# giving it a range to choose from\n",
    "df = sns.load_dataset('titanic')\n",
    "X =  df[['pclass','sex','age','sibsp','parch','fare']]\n",
    "y = df['survived']\n",
    "X.sex = X.sex.map({'male': 0,'female': 1})\n",
    "X.age.fillna(X.age.mean(),inplace=True)\n",
    "\n",
    "\n",
    "model = KNeighborsClassifier()\n",
    "\n",
    "# define parameter grisd\n",
    "grid_params = {'n_neighbors': np.arange(1,100,1)}\n",
    "\n",
    "# object gird search cv (creating he model)\n",
    "grid_search = GridSearchCV(model , grid_params , cv=5 ,scoring='precision')\n",
    "\n",
    "# fitting the model\n",
    "grid_search.fit(X,y)\n",
    "\n",
    "# printing the best parameter\n",
    "print(\"Best parameter : \", grid_search.best_params_)\n",
    "print(\"Best Score : \", grid_search.best_score_)"
   ]
  },
  {
   "cell_type": "markdown",
   "metadata": {},
   "source": [
    "{'algorithm': 'auto', 'leaf_size': 30, 'metric': 'minkowski', 'metric_params': None, 'n_jobs': None, 'n_neighbors': 5, 'p': 2, 'weights': 'uniform'}\n"
   ]
  },
  {
   "cell_type": "markdown",
   "metadata": {},
   "source": [
    "___"
   ]
  },
  {
   "cell_type": "markdown",
   "metadata": {},
   "source": [
    "# working on dicision tree"
   ]
  },
  {
   "cell_type": "code",
   "execution_count": 32,
   "metadata": {},
   "outputs": [
    {
     "name": "stdout",
     "output_type": "stream",
     "text": [
      "Best parameter :  {}\n",
      "Best Score :  0.7101628516632446\n"
     ]
    },
    {
     "name": "stderr",
     "output_type": "stream",
     "text": [
      "C:\\Users\\khattak\\AppData\\Local\\Temp\\ipykernel_2708\\1528163422.py:6: SettingWithCopyWarning: \n",
      "A value is trying to be set on a copy of a slice from a DataFrame.\n",
      "Try using .loc[row_indexer,col_indexer] = value instead\n",
      "\n",
      "See the caveats in the documentation: https://pandas.pydata.org/pandas-docs/stable/user_guide/indexing.html#returning-a-view-versus-a-copy\n",
      "  X.sex = X.sex.map({'male': 0,'female': 1})\n",
      "C:\\Users\\khattak\\AppData\\Local\\Temp\\ipykernel_2708\\1528163422.py:7: FutureWarning: A value is trying to be set on a copy of a DataFrame or Series through chained assignment using an inplace method.\n",
      "The behavior will change in pandas 3.0. This inplace method will never work because the intermediate object on which we are setting values always behaves as a copy.\n",
      "\n",
      "For example, when doing 'df[col].method(value, inplace=True)', try using 'df.method({col: value}, inplace=True)' or df[col] = df[col].method(value) instead, to perform the operation inplace on the original object.\n",
      "\n",
      "\n",
      "  X.age.fillna(X.age.mean(),inplace=True)\n",
      "C:\\Users\\khattak\\AppData\\Local\\Temp\\ipykernel_2708\\1528163422.py:7: SettingWithCopyWarning: \n",
      "A value is trying to be set on a copy of a slice from a DataFrame\n",
      "\n",
      "See the caveats in the documentation: https://pandas.pydata.org/pandas-docs/stable/user_guide/indexing.html#returning-a-view-versus-a-copy\n",
      "  X.age.fillna(X.age.mean(),inplace=True)\n"
     ]
    }
   ],
   "source": [
    "import numpy as np\n",
    "# giving it a range to choose from\n",
    "df = sns.load_dataset('titanic')\n",
    "X =  df[['pclass','sex','age','sibsp','parch','fare']]\n",
    "y = df['survived']\n",
    "X.sex = X.sex.map({'male': 0,'female': 1})\n",
    "X.age.fillna(X.age.mean(),inplace=True)\n",
    "\n",
    "\n",
    "model = DecisionTreeClassifier()\n",
    "\n",
    "# define parameter grisd\n",
    "grid_params = {}\n",
    "\n",
    "# object gird search cv (creating he model)\n",
    "grid_search = GridSearchCV(model , grid_params , cv=5 ,scoring='precision')\n",
    "\n",
    "# fitting the model\n",
    "grid_search.fit(X,y)\n",
    "\n",
    "# printing the best parameter\n",
    "print(\"Best parameter : \", grid_search.best_params_)\n",
    "print(\"Best Score : \", grid_search.best_score_)"
   ]
  },
  {
   "cell_type": "code",
   "execution_count": 34,
   "metadata": {},
   "outputs": [
    {
     "name": "stderr",
     "output_type": "stream",
     "text": [
      "C:\\Users\\khattak\\AppData\\Local\\Temp\\ipykernel_2708\\527114025.py:7: SettingWithCopyWarning: \n",
      "A value is trying to be set on a copy of a slice from a DataFrame.\n",
      "Try using .loc[row_indexer,col_indexer] = value instead\n",
      "\n",
      "See the caveats in the documentation: https://pandas.pydata.org/pandas-docs/stable/user_guide/indexing.html#returning-a-view-versus-a-copy\n",
      "  X.sex = X.sex.map({'male': 0,'female': 1})\n",
      "C:\\Users\\khattak\\AppData\\Local\\Temp\\ipykernel_2708\\527114025.py:8: FutureWarning: A value is trying to be set on a copy of a DataFrame or Series through chained assignment using an inplace method.\n",
      "The behavior will change in pandas 3.0. This inplace method will never work because the intermediate object on which we are setting values always behaves as a copy.\n",
      "\n",
      "For example, when doing 'df[col].method(value, inplace=True)', try using 'df.method({col: value}, inplace=True)' or df[col] = df[col].method(value) instead, to perform the operation inplace on the original object.\n",
      "\n",
      "\n",
      "  X.age.fillna(X.age.mean(),inplace=True)\n",
      "C:\\Users\\khattak\\AppData\\Local\\Temp\\ipykernel_2708\\527114025.py:8: SettingWithCopyWarning: \n",
      "A value is trying to be set on a copy of a slice from a DataFrame\n",
      "\n",
      "See the caveats in the documentation: https://pandas.pydata.org/pandas-docs/stable/user_guide/indexing.html#returning-a-view-versus-a-copy\n",
      "  X.age.fillna(X.age.mean(),inplace=True)\n"
     ]
    },
    {
     "name": "stdout",
     "output_type": "stream",
     "text": [
      "Best parameter :  {'max_depth': 9, 'min_samples_split': 5}\n",
      "Best Score :  0.8217434853236485\n"
     ]
    }
   ],
   "source": [
    "# so the above with zero parameter have the score of Best Score :  0.7101628516632446\n",
    "import numpy as np\n",
    "# giving it a range to choose from\n",
    "df = sns.load_dataset('titanic')\n",
    "X =  df[['pclass','sex','age','sibsp','parch','fare']]\n",
    "y = df['survived']\n",
    "X.sex = X.sex.map({'male': 0,'female': 1})\n",
    "X.age.fillna(X.age.mean(),inplace=True)\n",
    "\n",
    "\n",
    "model = DecisionTreeClassifier()\n",
    "\n",
    "# define parameter grisd\n",
    "grid_params = {'max_depth':[3,5,7,9,11,None],'min_samples_split':[2,3,4,5,6,7]}\n",
    "\n",
    "# object gird search cv (creating he model)\n",
    "grid_search = GridSearchCV(model , grid_params , cv=5 ,scoring='precision')\n",
    "\n",
    "# fitting the model\n",
    "grid_search.fit(X,y)\n",
    "\n",
    "# printing the best parameter\n",
    "print(\"Best parameter : \", grid_search.best_params_)\n",
    "print(\"Best Score : \", grid_search.best_score_)\n",
    "\n"
   ]
  },
  {
   "cell_type": "markdown",
   "metadata": {},
   "source": [
    "___"
   ]
  },
  {
   "cell_type": "markdown",
   "metadata": {},
   "source": [
    "# random forest classification"
   ]
  },
  {
   "cell_type": "code",
   "execution_count": 40,
   "metadata": {},
   "outputs": [
    {
     "name": "stderr",
     "output_type": "stream",
     "text": [
      "C:\\Users\\khattak\\AppData\\Local\\Temp\\ipykernel_2708\\3904827749.py:6: SettingWithCopyWarning: \n",
      "A value is trying to be set on a copy of a slice from a DataFrame.\n",
      "Try using .loc[row_indexer,col_indexer] = value instead\n",
      "\n",
      "See the caveats in the documentation: https://pandas.pydata.org/pandas-docs/stable/user_guide/indexing.html#returning-a-view-versus-a-copy\n",
      "  X.sex = X.sex.map({'male': 0,'female': 1})\n",
      "C:\\Users\\khattak\\AppData\\Local\\Temp\\ipykernel_2708\\3904827749.py:7: FutureWarning: A value is trying to be set on a copy of a DataFrame or Series through chained assignment using an inplace method.\n",
      "The behavior will change in pandas 3.0. This inplace method will never work because the intermediate object on which we are setting values always behaves as a copy.\n",
      "\n",
      "For example, when doing 'df[col].method(value, inplace=True)', try using 'df.method({col: value}, inplace=True)' or df[col] = df[col].method(value) instead, to perform the operation inplace on the original object.\n",
      "\n",
      "\n",
      "  X.age.fillna(X.age.mean(),inplace=True)\n",
      "C:\\Users\\khattak\\AppData\\Local\\Temp\\ipykernel_2708\\3904827749.py:7: SettingWithCopyWarning: \n",
      "A value is trying to be set on a copy of a slice from a DataFrame\n",
      "\n",
      "See the caveats in the documentation: https://pandas.pydata.org/pandas-docs/stable/user_guide/indexing.html#returning-a-view-versus-a-copy\n",
      "  X.age.fillna(X.age.mean(),inplace=True)\n"
     ]
    },
    {
     "name": "stdout",
     "output_type": "stream",
     "text": [
      "Best parameter :  {'max_depth': 3, 'max_features': 'log2', 'min_samples_split': 2, 'n_estimators': 10}\n",
      "Best Score :  0.8504678518623938\n"
     ]
    }
   ],
   "source": [
    "import numpy as np\n",
    "# giving it a range to choose from\n",
    "df = sns.load_dataset('titanic')\n",
    "X =  df[['pclass','sex','age','sibsp','parch','fare']]\n",
    "y = df['survived']\n",
    "X.sex = X.sex.map({'male': 0,'female': 1})\n",
    "X.age.fillna(X.age.mean(),inplace=True)\n",
    "\n",
    "\n",
    "model = RandomForestClassifier()\n",
    "\n",
    "# define parameter grisd\n",
    "grid_params = {\n",
    "    'n_estimators':[10,50,100],\n",
    "    'max_depth':[3,5,7,9,11,None],\n",
    "    'min_samples_split':[2,3,4,5,6,7],\n",
    "    'max_features':['log2']\n",
    "    }\n",
    "\n",
    "# object gird search cv (creating he model)\n",
    "grid_search = GridSearchCV(model , grid_params , cv=5 ,scoring='precision')\n",
    "\n",
    "# fitting the model\n",
    "grid_search.fit(X,y)\n",
    "\n",
    "# printing the best parameter\n",
    "print(\"Best parameter : \", grid_search.best_params_)\n",
    "print(\"Best Score : \", grid_search.best_score_)"
   ]
  },
  {
   "cell_type": "code",
   "execution_count": null,
   "metadata": {},
   "outputs": [],
   "source": [
    " "
   ]
  }
 ],
 "metadata": {
  "kernelspec": {
   "display_name": "Python 3",
   "language": "python",
   "name": "python3"
  },
  "language_info": {
   "codemirror_mode": {
    "name": "ipython",
    "version": 3
   },
   "file_extension": ".py",
   "mimetype": "text/x-python",
   "name": "python",
   "nbconvert_exporter": "python",
   "pygments_lexer": "ipython3",
   "version": "3.11.3"
  }
 },
 "nbformat": 4,
 "nbformat_minor": 2
}
