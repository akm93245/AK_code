{
 "cells": [
  {
   "cell_type": "code",
   "execution_count": 23,
   "metadata": {},
   "outputs": [],
   "source": [
    "import pandas as pd\n",
    "import seaborn as sns\n",
    "from sklearn.tree import DecisionTreeRegressor\n",
    "from sklearn.tree import DecisionTreeClassifier\n",
    "from sklearn.model_selection import train_test_split\n",
    "from sklearn.metrics import mean_absolute_error ,r2_score,precision_score, recall_score\n",
    "\n",
    "import streamlit as st\n",
    "\n",
    "from ydata_profiling import ProfileReport"
   ]
  },
  {
   "cell_type": "code",
   "execution_count": 24,
   "metadata": {},
   "outputs": [
    {
     "data": {
      "text/html": [
       "<div>\n",
       "<style scoped>\n",
       "    .dataframe tbody tr th:only-of-type {\n",
       "        vertical-align: middle;\n",
       "    }\n",
       "\n",
       "    .dataframe tbody tr th {\n",
       "        vertical-align: top;\n",
       "    }\n",
       "\n",
       "    .dataframe thead th {\n",
       "        text-align: right;\n",
       "    }\n",
       "</style>\n",
       "<table border=\"1\" class=\"dataframe\">\n",
       "  <thead>\n",
       "    <tr style=\"text-align: right;\">\n",
       "      <th></th>\n",
       "      <th>Region</th>\n",
       "      <th>Country</th>\n",
       "      <th>Item Type</th>\n",
       "      <th>Sales Channel</th>\n",
       "      <th>Order Priority</th>\n",
       "      <th>Order Date</th>\n",
       "      <th>Order ID</th>\n",
       "      <th>Ship Date</th>\n",
       "      <th>Units Sold</th>\n",
       "      <th>Unit Price</th>\n",
       "      <th>Unit Cost</th>\n",
       "      <th>Total Revenue</th>\n",
       "      <th>Total Cost</th>\n",
       "      <th>Total Profit</th>\n",
       "    </tr>\n",
       "  </thead>\n",
       "  <tbody>\n",
       "    <tr>\n",
       "      <th>0</th>\n",
       "      <td>Australia and Oceania</td>\n",
       "      <td>Tuvalu</td>\n",
       "      <td>Baby Food</td>\n",
       "      <td>Offline</td>\n",
       "      <td>H</td>\n",
       "      <td>5/28/2010</td>\n",
       "      <td>669165933</td>\n",
       "      <td>6/27/2010</td>\n",
       "      <td>9925</td>\n",
       "      <td>255.28</td>\n",
       "      <td>159.42</td>\n",
       "      <td>2533654.00</td>\n",
       "      <td>1582243.50</td>\n",
       "      <td>951410.50</td>\n",
       "    </tr>\n",
       "    <tr>\n",
       "      <th>1</th>\n",
       "      <td>Central America and the Caribbean</td>\n",
       "      <td>Grenada</td>\n",
       "      <td>Cereal</td>\n",
       "      <td>Online</td>\n",
       "      <td>C</td>\n",
       "      <td>8/22/2012</td>\n",
       "      <td>963881480</td>\n",
       "      <td>9/15/2012</td>\n",
       "      <td>2804</td>\n",
       "      <td>205.70</td>\n",
       "      <td>117.11</td>\n",
       "      <td>576782.80</td>\n",
       "      <td>328376.44</td>\n",
       "      <td>248406.36</td>\n",
       "    </tr>\n",
       "    <tr>\n",
       "      <th>2</th>\n",
       "      <td>Europe</td>\n",
       "      <td>Russia</td>\n",
       "      <td>Office Supplies</td>\n",
       "      <td>Offline</td>\n",
       "      <td>L</td>\n",
       "      <td>5/2/2014</td>\n",
       "      <td>341417157</td>\n",
       "      <td>5/8/2014</td>\n",
       "      <td>1779</td>\n",
       "      <td>651.21</td>\n",
       "      <td>524.96</td>\n",
       "      <td>1158502.59</td>\n",
       "      <td>933903.84</td>\n",
       "      <td>224598.75</td>\n",
       "    </tr>\n",
       "    <tr>\n",
       "      <th>3</th>\n",
       "      <td>Sub-Saharan Africa</td>\n",
       "      <td>Sao Tome and Principe</td>\n",
       "      <td>Fruits</td>\n",
       "      <td>Online</td>\n",
       "      <td>C</td>\n",
       "      <td>6/20/2014</td>\n",
       "      <td>514321792</td>\n",
       "      <td>7/5/2014</td>\n",
       "      <td>8102</td>\n",
       "      <td>9.33</td>\n",
       "      <td>6.92</td>\n",
       "      <td>75591.66</td>\n",
       "      <td>56065.84</td>\n",
       "      <td>19525.82</td>\n",
       "    </tr>\n",
       "    <tr>\n",
       "      <th>4</th>\n",
       "      <td>Sub-Saharan Africa</td>\n",
       "      <td>Rwanda</td>\n",
       "      <td>Office Supplies</td>\n",
       "      <td>Offline</td>\n",
       "      <td>L</td>\n",
       "      <td>2/1/2013</td>\n",
       "      <td>115456712</td>\n",
       "      <td>2/6/2013</td>\n",
       "      <td>5062</td>\n",
       "      <td>651.21</td>\n",
       "      <td>524.96</td>\n",
       "      <td>3296425.02</td>\n",
       "      <td>2657347.52</td>\n",
       "      <td>639077.50</td>\n",
       "    </tr>\n",
       "  </tbody>\n",
       "</table>\n",
       "</div>"
      ],
      "text/plain": [
       "                              Region  ... Total Profit\n",
       "0              Australia and Oceania  ...    951410.50\n",
       "1  Central America and the Caribbean  ...    248406.36\n",
       "2                             Europe  ...    224598.75\n",
       "3                 Sub-Saharan Africa  ...     19525.82\n",
       "4                 Sub-Saharan Africa  ...    639077.50\n",
       "\n",
       "[5 rows x 14 columns]"
      ]
     },
     "execution_count": 24,
     "metadata": {},
     "output_type": "execute_result"
    }
   ],
   "source": [
    "df = pd.read_csv('AmazonSalesData.csv')\n",
    "df.head()"
   ]
  },
  {
   "cell_type": "code",
   "execution_count": 32,
   "metadata": {},
   "outputs": [
    {
     "data": {
      "text/html": [
       "<div>\n",
       "<style scoped>\n",
       "    .dataframe tbody tr th:only-of-type {\n",
       "        vertical-align: middle;\n",
       "    }\n",
       "\n",
       "    .dataframe tbody tr th {\n",
       "        vertical-align: top;\n",
       "    }\n",
       "\n",
       "    .dataframe thead th {\n",
       "        text-align: right;\n",
       "    }\n",
       "</style>\n",
       "<table border=\"1\" class=\"dataframe\">\n",
       "  <thead>\n",
       "    <tr style=\"text-align: right;\">\n",
       "      <th></th>\n",
       "      <th>Region</th>\n",
       "      <th>Country</th>\n",
       "      <th>Item Type</th>\n",
       "      <th>Sales Channel</th>\n",
       "      <th>Order Priority</th>\n",
       "      <th>Order Date</th>\n",
       "      <th>Order ID</th>\n",
       "      <th>Ship Date</th>\n",
       "      <th>Units Sold</th>\n",
       "      <th>Unit Price</th>\n",
       "      <th>Unit Cost</th>\n",
       "      <th>Total Revenue</th>\n",
       "      <th>Total Cost</th>\n",
       "      <th>Total Profit</th>\n",
       "    </tr>\n",
       "  </thead>\n",
       "  <tbody>\n",
       "    <tr>\n",
       "      <th>95</th>\n",
       "      <td>Sub-Saharan Africa</td>\n",
       "      <td>Mali</td>\n",
       "      <td>Clothes</td>\n",
       "      <td>Online</td>\n",
       "      <td>M</td>\n",
       "      <td>7/26/2011</td>\n",
       "      <td>512878119</td>\n",
       "      <td>9/3/2011</td>\n",
       "      <td>888</td>\n",
       "      <td>109.28</td>\n",
       "      <td>35.84</td>\n",
       "      <td>97040.64</td>\n",
       "      <td>31825.92</td>\n",
       "      <td>65214.72</td>\n",
       "    </tr>\n",
       "    <tr>\n",
       "      <th>96</th>\n",
       "      <td>Asia</td>\n",
       "      <td>Malaysia</td>\n",
       "      <td>Fruits</td>\n",
       "      <td>Offline</td>\n",
       "      <td>L</td>\n",
       "      <td>11/11/2011</td>\n",
       "      <td>810711038</td>\n",
       "      <td>12/28/2011</td>\n",
       "      <td>6267</td>\n",
       "      <td>9.33</td>\n",
       "      <td>6.92</td>\n",
       "      <td>58471.11</td>\n",
       "      <td>43367.64</td>\n",
       "      <td>15103.47</td>\n",
       "    </tr>\n",
       "    <tr>\n",
       "      <th>97</th>\n",
       "      <td>Sub-Saharan Africa</td>\n",
       "      <td>Sierra Leone</td>\n",
       "      <td>Vegetables</td>\n",
       "      <td>Offline</td>\n",
       "      <td>C</td>\n",
       "      <td>6/1/2016</td>\n",
       "      <td>728815257</td>\n",
       "      <td>6/29/2016</td>\n",
       "      <td>1485</td>\n",
       "      <td>154.06</td>\n",
       "      <td>90.93</td>\n",
       "      <td>228779.10</td>\n",
       "      <td>135031.05</td>\n",
       "      <td>93748.05</td>\n",
       "    </tr>\n",
       "    <tr>\n",
       "      <th>98</th>\n",
       "      <td>North America</td>\n",
       "      <td>Mexico</td>\n",
       "      <td>Personal Care</td>\n",
       "      <td>Offline</td>\n",
       "      <td>M</td>\n",
       "      <td>7/30/2015</td>\n",
       "      <td>559427106</td>\n",
       "      <td>8/8/2015</td>\n",
       "      <td>5767</td>\n",
       "      <td>81.73</td>\n",
       "      <td>56.67</td>\n",
       "      <td>471336.91</td>\n",
       "      <td>326815.89</td>\n",
       "      <td>144521.02</td>\n",
       "    </tr>\n",
       "    <tr>\n",
       "      <th>99</th>\n",
       "      <td>Sub-Saharan Africa</td>\n",
       "      <td>Mozambique</td>\n",
       "      <td>Household</td>\n",
       "      <td>Offline</td>\n",
       "      <td>L</td>\n",
       "      <td>2/10/2012</td>\n",
       "      <td>665095412</td>\n",
       "      <td>2/15/2012</td>\n",
       "      <td>5367</td>\n",
       "      <td>668.27</td>\n",
       "      <td>502.54</td>\n",
       "      <td>3586605.09</td>\n",
       "      <td>2697132.18</td>\n",
       "      <td>889472.91</td>\n",
       "    </tr>\n",
       "  </tbody>\n",
       "</table>\n",
       "</div>"
      ],
      "text/plain": [
       "                Region       Country  ...  Total Cost Total Profit\n",
       "95  Sub-Saharan Africa          Mali  ...    31825.92     65214.72\n",
       "96                Asia      Malaysia  ...    43367.64     15103.47\n",
       "97  Sub-Saharan Africa  Sierra Leone  ...   135031.05     93748.05\n",
       "98       North America        Mexico  ...   326815.89    144521.02\n",
       "99  Sub-Saharan Africa    Mozambique  ...  2697132.18    889472.91\n",
       "\n",
       "[5 rows x 14 columns]"
      ]
     },
     "execution_count": 32,
     "metadata": {},
     "output_type": "execute_result"
    }
   ],
   "source": [
    "df.tail(5)"
   ]
  },
  {
   "cell_type": "code",
   "execution_count": 26,
   "metadata": {},
   "outputs": [
    {
     "data": {
      "application/vnd.jupyter.widget-view+json": {
       "model_id": "439baa3290454df2b6222a12cd6ed6f0",
       "version_major": 2,
       "version_minor": 0
      },
      "text/plain": [
       "Summarize dataset:   0%|          | 0/5 [00:00<?, ?it/s]"
      ]
     },
     "metadata": {},
     "output_type": "display_data"
    },
    {
     "data": {
      "application/vnd.jupyter.widget-view+json": {
       "model_id": "b4d72c1560ee44b5a73976ad8a34b250",
       "version_major": 2,
       "version_minor": 0
      },
      "text/plain": [
       "Generate report structure:   0%|          | 0/1 [00:00<?, ?it/s]"
      ]
     },
     "metadata": {},
     "output_type": "display_data"
    },
    {
     "data": {
      "application/vnd.jupyter.widget-view+json": {
       "model_id": "e7698900593d4fe6b038d4ab19ef9808",
       "version_major": 2,
       "version_minor": 0
      },
      "text/plain": [
       "Render HTML:   0%|          | 0/1 [00:00<?, ?it/s]"
      ]
     },
     "metadata": {},
     "output_type": "display_data"
    },
    {
     "data": {
      "application/vnd.jupyter.widget-view+json": {
       "model_id": "ff1a41cfe3a4426b816b87980bca07e8",
       "version_major": 2,
       "version_minor": 0
      },
      "text/plain": [
       "Export report to file:   0%|          | 0/1 [00:00<?, ?it/s]"
      ]
     },
     "metadata": {},
     "output_type": "display_data"
    }
   ],
   "source": [
    "profile = ProfileReport(df , title='AmazonSalesData', explorative=True)\n",
    "\n",
    "profile.to_file(\"AmazonSalesData.html\")"
   ]
  },
  {
   "cell_type": "code",
   "execution_count": 27,
   "metadata": {},
   "outputs": [],
   "source": [
    "X = df[['Units Sold','Unit Price'\t,'Unit Cost',\t'Total Revenue'\t,'Total Cost']]\n",
    "y = df['Total Profit']"
   ]
  },
  {
   "cell_type": "code",
   "execution_count": 28,
   "metadata": {},
   "outputs": [
    {
     "name": "stderr",
     "output_type": "stream",
     "text": [
      "d:\\programs\\miniconda3\\envs\\tf_env\\lib\\site-packages\\sklearn\\base.py:493: UserWarning: X does not have valid feature names, but DecisionTreeRegressor was fitted with feature names\n",
      "  warnings.warn(\n"
     ]
    }
   ],
   "source": [
    "X_train, X_test,y_train,y_test = train_test_split(X,y, test_size=0.2, random_state=42 )\n",
    "\n",
    "# fitting and creating a model for it\n",
    "model = DecisionTreeRegressor(max_depth=10)\n",
    "\n",
    "model.fit(X_train,y_train)\n",
    "\n",
    "predicts = model.predict([[9925\t,255.28,\t159.42,\t2533654.00\t,1582243.50]])"
   ]
  },
  {
   "cell_type": "code",
   "execution_count": 29,
   "metadata": {},
   "outputs": [
    {
     "data": {
      "text/plain": [
       "array([825738.04])"
      ]
     },
     "execution_count": 29,
     "metadata": {},
     "output_type": "execute_result"
    }
   ],
   "source": [
    "predicts"
   ]
  },
  {
   "cell_type": "code",
   "execution_count": 30,
   "metadata": {},
   "outputs": [
    {
     "name": "stderr",
     "output_type": "stream",
     "text": [
      "d:\\programs\\miniconda3\\envs\\tf_env\\lib\\site-packages\\sklearn\\base.py:493: UserWarning: X does not have valid feature names, but DecisionTreeClassifier was fitted with feature names\n",
      "  warnings.warn(\n"
     ]
    }
   ],
   "source": [
    "# for classification\n",
    "X1 = df[['Units Sold','Unit Price'\t,'Unit Cost',\t'Total Revenue'\t,'Total Cost','Total Profit']]\n",
    "y1 = df['Region']\n",
    "\n",
    "X_train, X_test,y_train,y_test = train_test_split(X1,y1, test_size=0.2, random_state=42 )\n",
    "\n",
    "# fitting and creating a model for it\n",
    "model = DecisionTreeClassifier(max_depth=10)\n",
    "\n",
    "model.fit(X_train,y_train)\n",
    "\n",
    "predictss = model.predict([[9925\t,255.28,\t159.42,\t2533654.00\t,1582243.50,951410.50]])"
   ]
  },
  {
   "cell_type": "code",
   "execution_count": 31,
   "metadata": {},
   "outputs": [
    {
     "data": {
      "text/plain": [
       "array(['Australia and Oceania'], dtype=object)"
      ]
     },
     "execution_count": 31,
     "metadata": {},
     "output_type": "execute_result"
    }
   ],
   "source": [
    "predictss"
   ]
  },
  {
   "cell_type": "code",
   "execution_count": null,
   "metadata": {},
   "outputs": [],
   "source": []
  }
 ],
 "metadata": {
  "kernelspec": {
   "display_name": "Python 3",
   "language": "python",
   "name": "python3"
  },
  "language_info": {
   "codemirror_mode": {
    "name": "ipython",
    "version": 3
   },
   "file_extension": ".py",
   "mimetype": "text/x-python",
   "name": "python",
   "nbconvert_exporter": "python",
   "pygments_lexer": "ipython3",
   "version": "3.9.20"
  }
 },
 "nbformat": 4,
 "nbformat_minor": 2
}
