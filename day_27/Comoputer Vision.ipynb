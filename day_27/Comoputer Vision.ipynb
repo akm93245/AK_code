{
 "cells": [
  {
   "cell_type": "markdown",
   "metadata": {},
   "source": [
    "<h1><center>Day 27"
   ]
  },
  {
   "cell_type": "markdown",
   "metadata": {},
   "source": [
    "**All theory by AMMAR**"
   ]
  },
  {
   "cell_type": "markdown",
   "metadata": {},
   "source": [
    "**images**\n",
    "\n",
    "`pixel` the basic unit of image\n",
    "\n",
    "a minute  area of illumination on a display screen, one many from which an image is composed.\\\n",
    "RGB-> R: Red , G : Green ,B: Blue\\\n",
    "**Note** Every coloured image is made of RGB.\n",
    "\n",
    "while the black and white is made of greyscale.\n",
    "\n",
    "-> the more pixel the more best the image is quality wise.\n",
    "\n",
    "**Screen sixe**\n",
    "we might have seen the something like 4:3 or FHD or 16:9 .\\\n",
    "It is the screen ration while we also have seen something like 720p * 480 (we can calculte it by dividing it by our screen ratio we can find the pixel per inch in our screen)\n",
    "\n",
    "\n",
    "we usually use the opencv for computer vision.\n",
    "`pip install opencv-python`"
   ]
  },
  {
   "cell_type": "markdown",
   "metadata": {},
   "source": [
    "**Bits depth and Bit**\\\n",
    "Bit depth is determined by the number of bits used to define each pixel.The greator the bit depth the greator the tones(grayscale or color).\n",
    "bitonal : (black and white)\n",
    "\n",
    "> 8bits image mean : possible shade of 256 * 256 * 256 for RGB possible  and the total tones will be 16777216.\n",
    "> 10 bits image mean : 1024 * 1024 * 1024  = total tones will be 1073741824.\n",
    "> 12 bits image mean : it will have a 68 billion  possible color combination.\n",
    "\n",
    "e.g we have a two bit grayscale image : it will have four possible combination 00,01,10,11 ----> (00 : black ),(01 : Black gray ), (10 white gray), (11 white).\n",
    "\n",
    "**Note** we can predict the image if we git all the pixels cordinates and its size."
   ]
  },
  {
   "cell_type": "markdown",
   "metadata": {},
   "source": [
    "___"
   ]
  },
  {
   "cell_type": "markdown",
   "metadata": {},
   "source": [
    "**Video** Sequence of image.\n",
    "\n",
    "no of images per sec or frames per sec (fps).\\\n",
    "`unit of video : fps` and the 4k, 2k are the dimention of video.\\\n",
    "the more fps a video have the more quality it has.\\\n",
    "Detecting videos  is same to iamge (used in crime detection)"
   ]
  }
 ],
 "metadata": {
  "language_info": {
   "name": "python"
  }
 },
 "nbformat": 4,
 "nbformat_minor": 2
}
