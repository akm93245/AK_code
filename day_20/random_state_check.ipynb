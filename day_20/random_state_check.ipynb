{
 "cells": [
  {
   "cell_type": "code",
   "execution_count": 5,
   "metadata": {},
   "outputs": [
    {
     "name": "stdout",
     "output_type": "stream",
     "text": [
      "Training set with random_state=42: [[1], [8], [3], [10], [5], [4], [7]]\n",
      "Test set with random_state=42: [[9], [2], [6]]\n",
      "Training set with random_state=1: [[1], [8], [3], [10], [5], [4], [7]]\n",
      "Test set with random_state=1: [[9], [2], [6]]\n"
     ]
    }
   ],
   "source": [
    "from sklearn.model_selection import train_test_split\n",
    "\n",
    "X = [[1], [2], [3], [4], [5], [6], [7], [8], [9], [10]]\n",
    "y = [0, 1, 0, 1, 0, 1, 0, 1, 0, 1]\n",
    "\n",
    "# Split the data with random_state=42\n",
    "X_train_42, X_test_42, y_train_42, y_test_42 = train_test_split(X, y, test_size=0.3, random_state=42)\n",
    "\n",
    "# Split the data with random_state=1\n",
    "X_train_1, X_test_1, y_train_1, y_test_1 = train_test_split(X, y, test_size=0.3, random_state=42)\n",
    "\n",
    "print(\"Training set with random_state=42:\", X_train_42)\n",
    "print(\"Test set with random_state=42:\", X_test_42)\n",
    "\n",
    "print(\"Training set with random_state=1:\", X_train_1)\n",
    "print(\"Test set with random_state=1:\", X_test_1)\n"
   ]
  }
 ],
 "metadata": {
  "kernelspec": {
   "display_name": "Python 3",
   "language": "python",
   "name": "python3"
  },
  "language_info": {
   "codemirror_mode": {
    "name": "ipython",
    "version": 3
   },
   "file_extension": ".py",
   "mimetype": "text/x-python",
   "name": "python",
   "nbconvert_exporter": "python",
   "pygments_lexer": "ipython3",
   "version": "3.11.3"
  }
 },
 "nbformat": 4,
 "nbformat_minor": 2
}
