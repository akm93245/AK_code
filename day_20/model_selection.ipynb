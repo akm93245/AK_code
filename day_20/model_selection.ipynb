{
 "cells": [
  {
   "cell_type": "markdown",
   "metadata": {},
   "source": [
    "<center><h1>Day 20"
   ]
  },
  {
   "cell_type": "markdown",
   "metadata": {},
   "source": [
    "<center><h1>Best model selection"
   ]
  },
  {
   "cell_type": "code",
   "execution_count": 1,
   "metadata": {},
   "outputs": [],
   "source": [
    "import pandas as pd\n",
    "import numpy as np\n",
    "import seaborn as sns\n",
    "import matplotlib.pyplot as plt\n",
    "\n",
    "from sklearn.metrics import precision_score,recall_score,f1_score,accuracy_score\n",
    "from sklearn.model_selection import train_test_split\n",
    "from sklearn.linear_model import LogisticRegression\n",
    "from sklearn.svm import SVC\n",
    "from sklearn.tree import DecisionTreeClassifier\n",
    "from sklearn.ensemble import RandomForestClassifier\n",
    "from sklearn.neighbors import KNeighborsClassifier"
   ]
  },
  {
   "cell_type": "code",
   "execution_count": 2,
   "metadata": {},
   "outputs": [
    {
     "name": "stderr",
     "output_type": "stream",
     "text": [
      "C:\\Users\\khattak\\AppData\\Local\\Temp\\ipykernel_3932\\3227303067.py:4: SettingWithCopyWarning: \n",
      "A value is trying to be set on a copy of a slice from a DataFrame.\n",
      "Try using .loc[row_indexer,col_indexer] = value instead\n",
      "\n",
      "See the caveats in the documentation: https://pandas.pydata.org/pandas-docs/stable/user_guide/indexing.html#returning-a-view-versus-a-copy\n",
      "  X.sex = X.sex.map({'male': 0,'female': 1})\n",
      "C:\\Users\\khattak\\AppData\\Local\\Temp\\ipykernel_3932\\3227303067.py:5: FutureWarning: A value is trying to be set on a copy of a DataFrame or Series through chained assignment using an inplace method.\n",
      "The behavior will change in pandas 3.0. This inplace method will never work because the intermediate object on which we are setting values always behaves as a copy.\n",
      "\n",
      "For example, when doing 'df[col].method(value, inplace=True)', try using 'df.method({col: value}, inplace=True)' or df[col] = df[col].method(value) instead, to perform the operation inplace on the original object.\n",
      "\n",
      "\n",
      "  X.age.fillna(X.age.mean(),inplace=True)\n",
      "C:\\Users\\khattak\\AppData\\Local\\Temp\\ipykernel_3932\\3227303067.py:5: SettingWithCopyWarning: \n",
      "A value is trying to be set on a copy of a slice from a DataFrame\n",
      "\n",
      "See the caveats in the documentation: https://pandas.pydata.org/pandas-docs/stable/user_guide/indexing.html#returning-a-view-versus-a-copy\n",
      "  X.age.fillna(X.age.mean(),inplace=True)\n"
     ]
    }
   ],
   "source": [
    "df = sns.load_dataset('titanic')\n",
    "X =  df[['pclass','sex','age','sibsp','parch','fare']]\n",
    "y = df['survived']\n",
    "X.sex = X.sex.map({'male': 0,'female': 1})\n",
    "X.age.fillna(X.age.mean(),inplace=True)"
   ]
  },
  {
   "cell_type": "code",
   "execution_count": 3,
   "metadata": {},
   "outputs": [
    {
     "name": "stdout",
     "output_type": "stream",
     "text": [
      "Accuracy Score :  Logistic Regression : 0.81\n",
      "Accuracy Score :  Random forest classification : 0.81\n",
      "Accuracy Score :  DicisionTree Classifier : 0.77\n",
      "Accuracy Score :  KNN : 0.70\n",
      "Accuracy Score :  SVC : 0.65\n"
     ]
    }
   ],
   "source": [
    "X_train,X_test,y_train,y_test=train_test_split(X,y, test_size=0.2,random_state=42)# learn random state from the scikit learn library\n",
    "\n",
    "models = [LogisticRegression(),SVC(),KNeighborsClassifier(),DecisionTreeClassifier(),RandomForestClassifier()]\n",
    "model_name = ['Logistic Regression',\"SVC\",\"KNN\",\"DicisionTree Classifier\", \"Random forest classification\"]\n",
    "\n",
    "model_score = []\n",
    "\n",
    "for model ,model_name in zip(models,model_name):\n",
    "    model.fit(X_train,y_train)\n",
    "    y_pred = model.predict(X_test)\n",
    "    accuracy = accuracy_score(y_test,y_pred)\n",
    "    model_score.append([model_name,accuracy])\n",
    "    \n",
    "sorted_models = sorted(model_score,key=lambda x:x[1], reverse=True)\n",
    "\n",
    "for model in sorted_models:\n",
    "    print(\"Accuracy Score : \", f'{model[0]} : {model[1]:.2f}')"
   ]
  },
  {
   "cell_type": "markdown",
   "metadata": {},
   "source": [
    "assignment : \n",
    "- lambda function\n",
    "- minimal coding\n",
    "- f'{model[0]} : {model[1]:.2f} what is this ?\n",
    "- use the model on any other dataset (with classification issue)\n",
    "  "
   ]
  },
  {
   "cell_type": "code",
   "execution_count": 4,
   "metadata": {},
   "outputs": [
    {
     "name": "stdout",
     "output_type": "stream",
     "text": [
      "Pricision Score :  Logistic Regression : 0.80\n",
      "Pricision Score :  Random forest classification : 0.75\n",
      "Pricision Score :  SVC : 0.75\n",
      "Pricision Score :  DicisionTree Classifier : 0.73\n",
      "Pricision Score :  KNN : 0.67\n"
     ]
    }
   ],
   "source": [
    "X_train,X_test,y_train,y_test=train_test_split(X,y, test_size=0.2,random_state=42)# learn random state from the scikit learn library\n",
    "\n",
    "models = [LogisticRegression(),SVC(),KNeighborsClassifier(),DecisionTreeClassifier(),RandomForestClassifier()]\n",
    "model_name = ['Logistic Regression',\"SVC\",\"KNN\",\"DicisionTree Classifier\", \"Random forest classification\"]\n",
    "\n",
    "model_score = []\n",
    "\n",
    "for model ,model_name in zip(models,model_name):\n",
    "    model.fit(X_train,y_train)\n",
    "    y_pred = model.predict(X_test)\n",
    "    Pricision_sr = precision_score(y_test,y_pred)\n",
    "    model_score.append([model_name,Pricision_sr])\n",
    "    \n",
    "sorted_models = sorted(model_score,key=lambda x:x[1], reverse=True)\n",
    "\n",
    "for model in sorted_models:\n",
    "    print(\"Pricision Score : \", f'{model[0]} : {model[1]:.2f}')"
   ]
  },
  {
   "cell_type": "code",
   "execution_count": 5,
   "metadata": {},
   "outputs": [
    {
     "name": "stdout",
     "output_type": "stream",
     "text": [
      "Recall Score :  Logistic Regression : 0.72\n",
      "Recall Score :  DicisionTree Classifier : 0.72\n",
      "Recall Score :  Random forest classification : 0.70\n",
      "Recall Score :  KNN : 0.54\n",
      "Recall Score :  SVC : 0.24\n"
     ]
    }
   ],
   "source": [
    "X_train,X_test,y_train,y_test=train_test_split(X,y, test_size=0.2,random_state=42)# learn random state from the scikit learn library\n",
    "\n",
    "models = [LogisticRegression(),SVC(),KNeighborsClassifier(),DecisionTreeClassifier(),RandomForestClassifier()]\n",
    "model_name = ['Logistic Regression',\"SVC\",\"KNN\",\"DicisionTree Classifier\", \"Random forest classification\"]\n",
    "\n",
    "model_score = []\n",
    "\n",
    "for model ,model_name in zip(models,model_name):\n",
    "    model.fit(X_train,y_train)\n",
    "    y_pred = model.predict(X_test)\n",
    "    recall_sr = recall_score(y_test,y_pred)\n",
    "    model_score.append([model_name,recall_sr])\n",
    "    \n",
    "sorted_models = sorted(model_score,key=lambda x:x[1], reverse=True)\n",
    "\n",
    "for model in sorted_models:\n",
    "    print(\"Recall Score : \", f'{model[0]} : {model[1]:.2f}')"
   ]
  },
  {
   "cell_type": "code",
   "execution_count": 6,
   "metadata": {},
   "outputs": [
    {
     "name": "stdout",
     "output_type": "stream",
     "text": [
      "Recall Score :  Logistic Regression : 0.757\n",
      "Recall Score :  Random forest classification : 0.746\n",
      "Recall Score :  DicisionTree Classifier : 0.708\n",
      "Recall Score :  KNN : 0.597\n",
      "Recall Score :  SVC : 0.367\n"
     ]
    }
   ],
   "source": [
    "X_train,X_test,y_train,y_test=train_test_split(X,y, test_size=0.2,random_state=42)# learn random state from the scikit learn library\n",
    "\n",
    "models = [LogisticRegression(),SVC(),KNeighborsClassifier(),DecisionTreeClassifier(),RandomForestClassifier()]\n",
    "model_name = ['Logistic Regression',\"SVC\",\"KNN\",\"DicisionTree Classifier\", \"Random forest classification\"]\n",
    "\n",
    "model_score = []\n",
    "\n",
    "for model ,model_name in zip(models,model_name):\n",
    "    model.fit(X_train,y_train)\n",
    "    y_pred = model.predict(X_test)\n",
    "    f1_scr = f1_score(y_test,y_pred)\n",
    "    model_score.append([model_name,f1_scr])\n",
    "    \n",
    "sorted_models = sorted(model_score,key=lambda x:x[1], reverse=True)\n",
    "\n",
    "for a in sorted_models:\n",
    "    print(\"Recall Score : \", f'{a[0]} : {a[1]:.3f}')"
   ]
  },
  {
   "cell_type": "markdown",
   "metadata": {},
   "source": [
    "___\n",
    "**Assignment**"
   ]
  },
  {
   "cell_type": "markdown",
   "metadata": {},
   "source": [
    "### model selection using another datasets"
   ]
  },
  {
   "cell_type": "code",
   "execution_count": null,
   "metadata": {},
   "outputs": [],
   "source": []
  }
 ],
 "metadata": {
  "kernelspec": {
   "display_name": "Python 3",
   "language": "python",
   "name": "python3"
  },
  "language_info": {
   "codemirror_mode": {
    "name": "ipython",
    "version": 3
   },
   "file_extension": ".py",
   "mimetype": "text/x-python",
   "name": "python",
   "nbconvert_exporter": "python",
   "pygments_lexer": "ipython3",
   "version": "3.11.3"
  }
 },
 "nbformat": 4,
 "nbformat_minor": 2
}
