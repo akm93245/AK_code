{
 "cells": [
  {
   "cell_type": "markdown",
   "metadata": {},
   "source": [
    "In this session we have run different metrices on different regression model we have compare those models and their performance on different scales"
   ]
  },
  {
   "cell_type": "code",
   "execution_count": 19,
   "metadata": {},
   "outputs": [],
   "source": [
    "import pandas as pd\n",
    "import seaborn as sns\n",
    "import numpy as np\n",
    "import matplotlib.pyplot as plt\n",
    "\n",
    "from sklearn.metrics import r2_score, mean_squared_error,mean_absolute_error,root_mean_squared_error\n",
    "from sklearn.model_selection import train_test_split,cross_val_score\n",
    "from sklearn.linear_model import LinearRegression\n",
    "from sklearn.svm import SVR\n",
    "from sklearn.tree import DecisionTreeRegressor\n",
    "from sklearn.ensemble import RandomForestRegressor\n",
    "from sklearn.neighbors import KNeighborsRegressor"
   ]
  },
  {
   "cell_type": "code",
   "execution_count": 2,
   "metadata": {},
   "outputs": [
    {
     "data": {
      "text/html": [
       "<div>\n",
       "<style scoped>\n",
       "    .dataframe tbody tr th:only-of-type {\n",
       "        vertical-align: middle;\n",
       "    }\n",
       "\n",
       "    .dataframe tbody tr th {\n",
       "        vertical-align: top;\n",
       "    }\n",
       "\n",
       "    .dataframe thead th {\n",
       "        text-align: right;\n",
       "    }\n",
       "</style>\n",
       "<table border=\"1\" class=\"dataframe\">\n",
       "  <thead>\n",
       "    <tr style=\"text-align: right;\">\n",
       "      <th></th>\n",
       "      <th>Region</th>\n",
       "      <th>Country</th>\n",
       "      <th>Item Type</th>\n",
       "      <th>Sales Channel</th>\n",
       "      <th>Order Priority</th>\n",
       "      <th>Order Date</th>\n",
       "      <th>Order ID</th>\n",
       "      <th>Ship Date</th>\n",
       "      <th>Units Sold</th>\n",
       "      <th>Unit Price</th>\n",
       "      <th>Unit Cost</th>\n",
       "      <th>Total Revenue</th>\n",
       "      <th>Total Cost</th>\n",
       "      <th>Total Profit</th>\n",
       "    </tr>\n",
       "  </thead>\n",
       "  <tbody>\n",
       "    <tr>\n",
       "      <th>0</th>\n",
       "      <td>Australia and Oceania</td>\n",
       "      <td>Tuvalu</td>\n",
       "      <td>Baby Food</td>\n",
       "      <td>Offline</td>\n",
       "      <td>H</td>\n",
       "      <td>5/28/2010</td>\n",
       "      <td>669165933</td>\n",
       "      <td>6/27/2010</td>\n",
       "      <td>9925</td>\n",
       "      <td>255.28</td>\n",
       "      <td>159.42</td>\n",
       "      <td>2533654.00</td>\n",
       "      <td>1582243.50</td>\n",
       "      <td>951410.50</td>\n",
       "    </tr>\n",
       "    <tr>\n",
       "      <th>1</th>\n",
       "      <td>Central America and the Caribbean</td>\n",
       "      <td>Grenada</td>\n",
       "      <td>Cereal</td>\n",
       "      <td>Online</td>\n",
       "      <td>C</td>\n",
       "      <td>8/22/2012</td>\n",
       "      <td>963881480</td>\n",
       "      <td>9/15/2012</td>\n",
       "      <td>2804</td>\n",
       "      <td>205.70</td>\n",
       "      <td>117.11</td>\n",
       "      <td>576782.80</td>\n",
       "      <td>328376.44</td>\n",
       "      <td>248406.36</td>\n",
       "    </tr>\n",
       "    <tr>\n",
       "      <th>2</th>\n",
       "      <td>Europe</td>\n",
       "      <td>Russia</td>\n",
       "      <td>Office Supplies</td>\n",
       "      <td>Offline</td>\n",
       "      <td>L</td>\n",
       "      <td>5/2/2014</td>\n",
       "      <td>341417157</td>\n",
       "      <td>5/8/2014</td>\n",
       "      <td>1779</td>\n",
       "      <td>651.21</td>\n",
       "      <td>524.96</td>\n",
       "      <td>1158502.59</td>\n",
       "      <td>933903.84</td>\n",
       "      <td>224598.75</td>\n",
       "    </tr>\n",
       "    <tr>\n",
       "      <th>3</th>\n",
       "      <td>Sub-Saharan Africa</td>\n",
       "      <td>Sao Tome and Principe</td>\n",
       "      <td>Fruits</td>\n",
       "      <td>Online</td>\n",
       "      <td>C</td>\n",
       "      <td>6/20/2014</td>\n",
       "      <td>514321792</td>\n",
       "      <td>7/5/2014</td>\n",
       "      <td>8102</td>\n",
       "      <td>9.33</td>\n",
       "      <td>6.92</td>\n",
       "      <td>75591.66</td>\n",
       "      <td>56065.84</td>\n",
       "      <td>19525.82</td>\n",
       "    </tr>\n",
       "    <tr>\n",
       "      <th>4</th>\n",
       "      <td>Sub-Saharan Africa</td>\n",
       "      <td>Rwanda</td>\n",
       "      <td>Office Supplies</td>\n",
       "      <td>Offline</td>\n",
       "      <td>L</td>\n",
       "      <td>2/1/2013</td>\n",
       "      <td>115456712</td>\n",
       "      <td>2/6/2013</td>\n",
       "      <td>5062</td>\n",
       "      <td>651.21</td>\n",
       "      <td>524.96</td>\n",
       "      <td>3296425.02</td>\n",
       "      <td>2657347.52</td>\n",
       "      <td>639077.50</td>\n",
       "    </tr>\n",
       "    <tr>\n",
       "      <th>...</th>\n",
       "      <td>...</td>\n",
       "      <td>...</td>\n",
       "      <td>...</td>\n",
       "      <td>...</td>\n",
       "      <td>...</td>\n",
       "      <td>...</td>\n",
       "      <td>...</td>\n",
       "      <td>...</td>\n",
       "      <td>...</td>\n",
       "      <td>...</td>\n",
       "      <td>...</td>\n",
       "      <td>...</td>\n",
       "      <td>...</td>\n",
       "      <td>...</td>\n",
       "    </tr>\n",
       "    <tr>\n",
       "      <th>95</th>\n",
       "      <td>Sub-Saharan Africa</td>\n",
       "      <td>Mali</td>\n",
       "      <td>Clothes</td>\n",
       "      <td>Online</td>\n",
       "      <td>M</td>\n",
       "      <td>7/26/2011</td>\n",
       "      <td>512878119</td>\n",
       "      <td>9/3/2011</td>\n",
       "      <td>888</td>\n",
       "      <td>109.28</td>\n",
       "      <td>35.84</td>\n",
       "      <td>97040.64</td>\n",
       "      <td>31825.92</td>\n",
       "      <td>65214.72</td>\n",
       "    </tr>\n",
       "    <tr>\n",
       "      <th>96</th>\n",
       "      <td>Asia</td>\n",
       "      <td>Malaysia</td>\n",
       "      <td>Fruits</td>\n",
       "      <td>Offline</td>\n",
       "      <td>L</td>\n",
       "      <td>11/11/2011</td>\n",
       "      <td>810711038</td>\n",
       "      <td>12/28/2011</td>\n",
       "      <td>6267</td>\n",
       "      <td>9.33</td>\n",
       "      <td>6.92</td>\n",
       "      <td>58471.11</td>\n",
       "      <td>43367.64</td>\n",
       "      <td>15103.47</td>\n",
       "    </tr>\n",
       "    <tr>\n",
       "      <th>97</th>\n",
       "      <td>Sub-Saharan Africa</td>\n",
       "      <td>Sierra Leone</td>\n",
       "      <td>Vegetables</td>\n",
       "      <td>Offline</td>\n",
       "      <td>C</td>\n",
       "      <td>6/1/2016</td>\n",
       "      <td>728815257</td>\n",
       "      <td>6/29/2016</td>\n",
       "      <td>1485</td>\n",
       "      <td>154.06</td>\n",
       "      <td>90.93</td>\n",
       "      <td>228779.10</td>\n",
       "      <td>135031.05</td>\n",
       "      <td>93748.05</td>\n",
       "    </tr>\n",
       "    <tr>\n",
       "      <th>98</th>\n",
       "      <td>North America</td>\n",
       "      <td>Mexico</td>\n",
       "      <td>Personal Care</td>\n",
       "      <td>Offline</td>\n",
       "      <td>M</td>\n",
       "      <td>7/30/2015</td>\n",
       "      <td>559427106</td>\n",
       "      <td>8/8/2015</td>\n",
       "      <td>5767</td>\n",
       "      <td>81.73</td>\n",
       "      <td>56.67</td>\n",
       "      <td>471336.91</td>\n",
       "      <td>326815.89</td>\n",
       "      <td>144521.02</td>\n",
       "    </tr>\n",
       "    <tr>\n",
       "      <th>99</th>\n",
       "      <td>Sub-Saharan Africa</td>\n",
       "      <td>Mozambique</td>\n",
       "      <td>Household</td>\n",
       "      <td>Offline</td>\n",
       "      <td>L</td>\n",
       "      <td>2/10/2012</td>\n",
       "      <td>665095412</td>\n",
       "      <td>2/15/2012</td>\n",
       "      <td>5367</td>\n",
       "      <td>668.27</td>\n",
       "      <td>502.54</td>\n",
       "      <td>3586605.09</td>\n",
       "      <td>2697132.18</td>\n",
       "      <td>889472.91</td>\n",
       "    </tr>\n",
       "  </tbody>\n",
       "</table>\n",
       "<p>100 rows × 14 columns</p>\n",
       "</div>"
      ],
      "text/plain": [
       "                               Region                Country        Item Type  \\\n",
       "0               Australia and Oceania                 Tuvalu        Baby Food   \n",
       "1   Central America and the Caribbean                Grenada           Cereal   \n",
       "2                              Europe                 Russia  Office Supplies   \n",
       "3                  Sub-Saharan Africa  Sao Tome and Principe           Fruits   \n",
       "4                  Sub-Saharan Africa                 Rwanda  Office Supplies   \n",
       "..                                ...                    ...              ...   \n",
       "95                 Sub-Saharan Africa                   Mali          Clothes   \n",
       "96                               Asia               Malaysia           Fruits   \n",
       "97                 Sub-Saharan Africa           Sierra Leone       Vegetables   \n",
       "98                      North America                 Mexico    Personal Care   \n",
       "99                 Sub-Saharan Africa             Mozambique        Household   \n",
       "\n",
       "   Sales Channel Order Priority  Order Date   Order ID   Ship Date  \\\n",
       "0        Offline              H   5/28/2010  669165933   6/27/2010   \n",
       "1         Online              C   8/22/2012  963881480   9/15/2012   \n",
       "2        Offline              L    5/2/2014  341417157    5/8/2014   \n",
       "3         Online              C   6/20/2014  514321792    7/5/2014   \n",
       "4        Offline              L    2/1/2013  115456712    2/6/2013   \n",
       "..           ...            ...         ...        ...         ...   \n",
       "95        Online              M   7/26/2011  512878119    9/3/2011   \n",
       "96       Offline              L  11/11/2011  810711038  12/28/2011   \n",
       "97       Offline              C    6/1/2016  728815257   6/29/2016   \n",
       "98       Offline              M   7/30/2015  559427106    8/8/2015   \n",
       "99       Offline              L   2/10/2012  665095412   2/15/2012   \n",
       "\n",
       "    Units Sold  Unit Price  Unit Cost  Total Revenue  Total Cost  Total Profit  \n",
       "0         9925      255.28     159.42     2533654.00  1582243.50     951410.50  \n",
       "1         2804      205.70     117.11      576782.80   328376.44     248406.36  \n",
       "2         1779      651.21     524.96     1158502.59   933903.84     224598.75  \n",
       "3         8102        9.33       6.92       75591.66    56065.84      19525.82  \n",
       "4         5062      651.21     524.96     3296425.02  2657347.52     639077.50  \n",
       "..         ...         ...        ...            ...         ...           ...  \n",
       "95         888      109.28      35.84       97040.64    31825.92      65214.72  \n",
       "96        6267        9.33       6.92       58471.11    43367.64      15103.47  \n",
       "97        1485      154.06      90.93      228779.10   135031.05      93748.05  \n",
       "98        5767       81.73      56.67      471336.91   326815.89     144521.02  \n",
       "99        5367      668.27     502.54     3586605.09  2697132.18     889472.91  \n",
       "\n",
       "[100 rows x 14 columns]"
      ]
     },
     "execution_count": 2,
     "metadata": {},
     "output_type": "execute_result"
    }
   ],
   "source": [
    "df = pd.read_csv('AmazonSalesData.csv')\n",
    "df"
   ]
  },
  {
   "cell_type": "code",
   "execution_count": 3,
   "metadata": {},
   "outputs": [
    {
     "data": {
      "text/plain": [
       "Region            0\n",
       "Country           0\n",
       "Item Type         0\n",
       "Sales Channel     0\n",
       "Order Priority    0\n",
       "Order Date        0\n",
       "Order ID          0\n",
       "Ship Date         0\n",
       "Units Sold        0\n",
       "Unit Price        0\n",
       "Unit Cost         0\n",
       "Total Revenue     0\n",
       "Total Cost        0\n",
       "Total Profit      0\n",
       "dtype: int64"
      ]
     },
     "execution_count": 3,
     "metadata": {},
     "output_type": "execute_result"
    }
   ],
   "source": [
    "df.isnull().sum()"
   ]
  },
  {
   "cell_type": "code",
   "execution_count": 6,
   "metadata": {},
   "outputs": [],
   "source": [
    "X = df[['Units Sold','Unit Price','Unit Cost','Total Revenue','Total Cost']]\n",
    "y = df['Total Profit']"
   ]
  },
  {
   "cell_type": "code",
   "execution_count": 15,
   "metadata": {},
   "outputs": [
    {
     "name": "stdout",
     "output_type": "stream",
     "text": [
      "R2 score  LinearRegression : 1.00\n",
      "R2 score  RandomForestRegressor : 0.93\n",
      "R2 score  DecisionTreeRegressor : 0.92\n",
      "R2 score  KNeighborsRegressor : 0.75\n",
      "R2 score  SVR : -0.36\n"
     ]
    }
   ],
   "source": [
    "X_train,X_test,y_train,y_test = train_test_split(X,y, test_size=0.2, random_state=42)\n",
    "\n",
    "models = [LinearRegression(),KNeighborsRegressor(),DecisionTreeRegressor(),SVR(),RandomForestRegressor()]\n",
    "model_names = [\"LinearRegression\",\"KNeighborsRegressor\",\"DecisionTreeRegressor\",\"SVR\",\"RandomForestRegressor\"]\n",
    "\n",
    "models_score = []\n",
    "\n",
    "for model,model_names in zip(models,model_names):\n",
    "    model.fit(X_train,y_train)\n",
    "    y_pred=model.predict(X_test)\n",
    "    r2sr = r2_score(y_test,y_pred)\n",
    "    models_score.append([model_names,r2sr])\n",
    "    \n",
    "models_score = sorted(models_score, key=lambda x:x[1] , reverse=True)\n",
    "\n",
    "for model in models_score:\n",
    "    print(f\"R2 score  {model[0]} : {model[1]:.2f}\")"
   ]
  },
  {
   "cell_type": "code",
   "execution_count": 16,
   "metadata": {},
   "outputs": [
    {
     "name": "stdout",
     "output_type": "stream",
     "text": [
      "MSE  SVR : 228183616467.00\n",
      "MSE  KNeighborsRegressor : 41877862442.49\n",
      "MSE  DecisionTreeRegressor : 10103815571.44\n",
      "MSE  RandomForestRegressor : 8917947702.52\n",
      "MSE  LinearRegression : 0.00\n"
     ]
    }
   ],
   "source": [
    "X_train,X_test,y_train,y_test = train_test_split(X,y, test_size=0.2, random_state=42)\n",
    "\n",
    "models = [LinearRegression(),KNeighborsRegressor(),DecisionTreeRegressor(),SVR(),RandomForestRegressor()]\n",
    "model_names = [\"LinearRegression\",\"KNeighborsRegressor\",\"DecisionTreeRegressor\",\"SVR\",\"RandomForestRegressor\"]\n",
    "\n",
    "models_score = []\n",
    "\n",
    "for model,model_names in zip(models,model_names):\n",
    "    model.fit(X_train,y_train)\n",
    "    y_pred=model.predict(X_test)\n",
    "    MSE = mean_squared_error(y_test,y_pred)\n",
    "    models_score.append([model_names,MSE])\n",
    "    \n",
    "models_score = sorted(models_score, key=lambda x:x[1] , reverse=True)\n",
    "\n",
    "for model in models_score:\n",
    "    print(f\"MSE  {model[0]} : {model[1]:.2f}\")"
   ]
  },
  {
   "cell_type": "code",
   "execution_count": 17,
   "metadata": {},
   "outputs": [
    {
     "name": "stdout",
     "output_type": "stream",
     "text": [
      "MAE  SVR : 358718.95\n",
      "MAE  KNeighborsRegressor : 143109.55\n",
      "MAE  DecisionTreeRegressor : 71530.31\n",
      "MAE  RandomForestRegressor : 70923.91\n",
      "MAE  LinearRegression : 0.00\n"
     ]
    }
   ],
   "source": [
    "X_train,X_test,y_train,y_test = train_test_split(X,y, test_size=0.2, random_state=42)\n",
    "\n",
    "models = [LinearRegression(),KNeighborsRegressor(),DecisionTreeRegressor(),SVR(),RandomForestRegressor()]\n",
    "model_names = [\"LinearRegression\",\"KNeighborsRegressor\",\"DecisionTreeRegressor\",\"SVR\",\"RandomForestRegressor\"]\n",
    "\n",
    "models_score = []\n",
    "\n",
    "for model,model_names in zip(models,model_names):\n",
    "    model.fit(X_train,y_train)\n",
    "    y_pred=model.predict(X_test)\n",
    "    MAE = mean_absolute_error(y_test,y_pred)\n",
    "    models_score.append([model_names,MAE])\n",
    "    \n",
    "models_score = sorted(models_score, key=lambda x:x[1] , reverse=True)\n",
    "\n",
    "for model in models_score:\n",
    "    print(f\"MAE  {model[0]} : {model[1]:.2f}\")"
   ]
  },
  {
   "cell_type": "code",
   "execution_count": 23,
   "metadata": {},
   "outputs": [
    {
     "name": "stdout",
     "output_type": "stream",
     "text": [
      "R2 score  LinearRegression : 0.93\n",
      "R2 score  KNeighborsRegressor : 0.93\n",
      "R2 score  DecisionTreeRegressor : 0.93\n",
      "R2 score  SVR : 0.93\n",
      "R2 score  RandomForestRegressor : 0.93\n"
     ]
    }
   ],
   "source": [
    "X_train,X_test,y_train,y_test = train_test_split(X,y, test_size=0.2, random_state=42)\n",
    "\n",
    "models = [LinearRegression(),KNeighborsRegressor(),DecisionTreeRegressor(),SVR(),RandomForestRegressor()]\n",
    "model_names = [\"LinearRegression\",\"KNeighborsRegressor\",\"DecisionTreeRegressor\",\"SVR\",\"RandomForestRegressor\"]\n",
    "\n",
    "models_score = []\n",
    "\n",
    "for model,model_names in zip(models,model_names):\n",
    "    model.fit(X_train,y_train)\n",
    "    y_pred=model.predict(X_test)\n",
    "    RMSE = root_mean_squared_error(y_test,y_pred)\n",
    "    models_score.append([model_names,r2sr])\n",
    "    \n",
    "models_score = sorted(models_score, key=lambda x:x[1] , reverse=True)\n",
    "\n",
    "for model in models_score:\n",
    "    print(f\"R2 score  {model[0]} : {model[1]:.2f}\")"
   ]
  },
  {
   "cell_type": "markdown",
   "metadata": {},
   "source": [
    "___"
   ]
  },
  {
   "cell_type": "markdown",
   "metadata": {},
   "source": [
    "Now enough of this evaluation let get into the main fight"
   ]
  },
  {
   "cell_type": "code",
   "execution_count": 49,
   "metadata": {},
   "outputs": [
    {
     "data": {
      "text/plain": [
       "Text(0, 0.5, 'Actual')"
      ]
     },
     "execution_count": 49,
     "metadata": {},
     "output_type": "execute_result"
    },
    {
     "data": {
      "image/png": "[encoded data removed]",
      "text/plain": [
       "<Figure size 640x480 with 1 Axes>"
      ]
     },
     "metadata": {},
     "output_type": "display_data"
    }
   ],
   "source": [
    "X_train,X_test,y_train,y_test = train_test_split(X,y, test_size=0.2, random_state=42)\n",
    "\n",
    "model = KNeighborsRegressor(n_neighbors=1)\n",
    "\n",
    "model.fit(X_train,y_train)\n",
    "\n",
    "y_pred=model.predict(X_test)\n",
    "\n",
    "y_pred\n",
    "\n",
    "sns.scatterplot(x=y_pred , y=y_test )\n",
    "plt.xlabel('Predicted')\n",
    "plt.ylabel('Actual')"
   ]
  },
  {
   "cell_type": "markdown",
   "metadata": {},
   "source": [
    "___\n",
    "**Linear regressor**"
   ]
  },
  {
   "cell_type": "code",
   "execution_count": 52,
   "metadata": {},
   "outputs": [
    {
     "name": "stderr",
     "output_type": "stream",
     "text": [
      "c:\\Users\\khattak\\AppData\\Local\\Programs\\Python\\Python311\\Lib\\site-packages\\sklearn\\base.py:493: UserWarning: X does not have valid feature names, but LinearRegression was fitted with feature names\n",
      "  warnings.warn(\n"
     ]
    },
    {
     "data": {
      "text/plain": [
       "array([93748.05])"
      ]
     },
     "execution_count": 52,
     "metadata": {},
     "output_type": "execute_result"
    }
   ],
   "source": [
    "X_train,X_test,y_train,y_test = train_test_split(X,y, test_size=0.2, random_state=42)\n",
    "\n",
    "model = LinearRegression()\n",
    "\n",
    "model.fit(X_train,y_train)\n",
    "\n",
    "y_pred=model.predict([[1485\t,154.06\t,90.93\t,228779.10,\t135031.05]])\n",
    "\n",
    "y_pred"
   ]
  },
  {
   "cell_type": "markdown",
   "metadata": {},
   "source": [
    "___\n",
    "**Random forest regressor**"
   ]
  },
  {
   "cell_type": "code",
   "execution_count": 58,
   "metadata": {},
   "outputs": [
    {
     "name": "stderr",
     "output_type": "stream",
     "text": [
      "c:\\Users\\khattak\\AppData\\Local\\Programs\\Python\\Python311\\Lib\\site-packages\\sklearn\\base.py:493: UserWarning: X does not have valid feature names, but RandomForestRegressor was fitted with feature names\n",
      "  warnings.warn(\n"
     ]
    },
    {
     "data": {
      "text/plain": [
       "array([91251.768])"
      ]
     },
     "execution_count": 58,
     "metadata": {},
     "output_type": "execute_result"
    }
   ],
   "source": [
    "X_train,X_test,y_train,y_test = train_test_split(X,y, test_size=0.2, random_state=42)\n",
    "\n",
    "model = RandomForestRegressor(random_state=42)\n",
    "\n",
    "model.fit(X_train,y_train)\n",
    "\n",
    "y_pred=model.predict([[1485\t,154.06\t,90.93\t,228779.10,\t135031.05]])\n",
    "\n",
    "y_pred"
   ]
  },
  {
   "cell_type": "markdown",
   "metadata": {},
   "source": [
    "___\n",
    "**Dicision tree regressor**"
   ]
  },
  {
   "cell_type": "code",
   "execution_count": 59,
   "metadata": {},
   "outputs": [
    {
     "name": "stderr",
     "output_type": "stream",
     "text": [
      "c:\\Users\\khattak\\AppData\\Local\\Programs\\Python\\Python311\\Lib\\site-packages\\sklearn\\base.py:493: UserWarning: X does not have valid feature names, but DecisionTreeRegressor was fitted with feature names\n",
      "  warnings.warn(\n"
     ]
    },
    {
     "data": {
      "text/plain": [
       "array([93748.05])"
      ]
     },
     "execution_count": 59,
     "metadata": {},
     "output_type": "execute_result"
    }
   ],
   "source": [
    "X_train,X_test,y_train,y_test = train_test_split(X,y, test_size=0.2, random_state=42)\n",
    "\n",
    "model = DecisionTreeRegressor(random_state=42)\n",
    "\n",
    "model.fit(X_train,y_train)\n",
    "\n",
    "y_pred=model.predict([[1485\t,154.06\t,90.93\t,228779.10,\t135031.05]])\n",
    "\n",
    "y_pred"
   ]
  },
  {
   "cell_type": "markdown",
   "metadata": {},
   "source": [
    "___\n",
    "**Support vector regressor (SVR)**"
   ]
  },
  {
   "cell_type": "code",
   "execution_count": null,
   "metadata": {},
   "outputs": [
    {
     "name": "stderr",
     "output_type": "stream",
     "text": [
      "c:\\Users\\khattak\\AppData\\Local\\Programs\\Python\\Python311\\Lib\\site-packages\\sklearn\\base.py:493: UserWarning: X does not have valid feature names, but SVR was fitted with feature names\n",
      "  warnings.warn(\n"
     ]
    },
    {
     "data": {
      "text/plain": [
       "array([264179.41535023])"
      ]
     },
     "execution_count": 60,
     "metadata": {},
     "output_type": "execute_result"
    }
   ],
   "source": [
    "X_train,X_test,y_train,y_test = train_test_split(X,y, test_size=0.2, random_state=42)\n",
    "\n",
    "model = SVR()\n",
    "\n",
    "model.fit(X_train,y_train)\n",
    "\n",
    "y_pred=model.predict([[1485\t,154.06\t,90.93\t,228779.10,\t135031.05]])\n",
    "\n",
    "y_pred"
   ]
  },
  {
   "cell_type": "markdown",
   "metadata": {},
   "source": [
    "___"
   ]
  }
 ],
 "metadata": {
  "kernelspec": {
   "display_name": "Python 3",
   "language": "python",
   "name": "python3"
  },
  "language_info": {
   "codemirror_mode": {
    "name": "ipython",
    "version": 3
   },
   "file_extension": ".py",
   "mimetype": "text/x-python",
   "name": "python",
   "nbconvert_exporter": "python",
   "pygments_lexer": "ipython3",
   "version": "3.11.3"
  }
 },
 "nbformat": 4,
 "nbformat_minor": 2
}
