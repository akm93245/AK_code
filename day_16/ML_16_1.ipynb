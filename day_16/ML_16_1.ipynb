{
 "cells": [
  {
   "cell_type": "markdown",
   "metadata": {},
   "source": [
    "<h1 style = 'background:red; color:black'><center > Machine Learning\n"
   ]
  },
  {
   "cell_type": "markdown",
   "metadata": {},
   "source": [
    "**Artificial Intelligence** Field taht aims to create machines capable of performing tasks that typically require human intelligence\\\n",
    "i.e Reasoning, perception , language understanding"
   ]
  },
  {
   "cell_type": "markdown",
   "metadata": {},
   "source": [
    "**Machine learning** Machine learning is a subset of artificial intelligence(AI) that focuses on the development of algorithms and statistical methods that enables computer to perform task without explicit (wazeh) instruction. Instead of being programmed to complete a speciefic task, a machine learning model learn from data indentifying patterns and making dicision based on information it has processed.\n",
    "\n",
    "**Data** Data is a foundation of machine learning models learn from existing data to make prediction and dicisions.\n",
    "\n",
    "**Algorithms** Procedures and formulas for solving problems\n",
    "\n",
    "**Types**\n",
    "- Supervide learning \n",
    "  - classification\n",
    "  - Regression\n",
    "- Unsupervised learning\n",
    "- Semi Supervised learning \n",
    "- Reinforced learning"
   ]
  },
  {
   "cell_type": "markdown",
   "metadata": {},
   "source": [
    "**Deep learnig** A type of AI that uses neural networks to teach computer how to process data like humans brains./\n",
    "**Neural Networks** A Machine learnig model that uses a network of interconnected units called neurons, to process data and solve problems.\n",
    "\n",
    "-> Made of layer of nodes or artificial neurons that are connected to each other\n",
    "\n",
    "-> Neural networks are inpired by human brain\n",
    "\n",
    "Deep learning is more effective in term of speech and image and facial recongnition."
   ]
  },
  {
   "cell_type": "markdown",
   "metadata": {},
   "source": [
    "**Supervised Learning** The model that is trained on label data. Data is given to it and speciefied and explained.\\\n",
    "**Unsupervised Learnig** AI model is not given the label data. It finds pattens in the unlabeled data.\\\n",
    "**Semi Supervised Learnig** some of the data is supervised while other is unsupervised.\\\n",
    "**Reinforced Learnig** ML technique that teaches software to make dicision that maximize rewords. (real life example: You used to be good boy infront of parents)."
   ]
  },
  {
   "cell_type": "markdown",
   "metadata": {},
   "source": [
    "**Supervised learing**\\\n",
    "It is furthur divided into Classification and Regression.\\\n",
    "Regression is mostly used in Supervised learning."
   ]
  },
  {
   "cell_type": "markdown",
   "metadata": {},
   "source": [
    ">**Libraries for machine learning in Python**\\\n",
    ">scikit-learing\\\n",
    ">Tenserflow\\\n",
    ">keras"
   ]
  },
  {
   "cell_type": "markdown",
   "metadata": {},
   "source": [
    "IN the model of supervised learning 70-85 % data is training and 15 to 30 % data is testing data.\n",
    "\n",
    "we use train_test_split for spliting the data into training data part and test data part\n",
    "\n",
    "training data + test data ==> model ==> prediction"
   ]
  },
  {
   "cell_type": "markdown",
   "metadata": {},
   "source": [
    "___\n",
    "**Example of ML**\\\n",
    "An example of ML trained model"
   ]
  },
  {
   "cell_type": "code",
   "execution_count": 14,
   "metadata": {},
   "outputs": [
    {
     "name": "stdout",
     "output_type": "stream",
     "text": [
      "Predicted value :  ['setosa']\n"
     ]
    },
    {
     "name": "stderr",
     "output_type": "stream",
     "text": [
      "c:\\Users\\khattak\\AppData\\Local\\Programs\\Python\\Python311\\Lib\\site-packages\\sklearn\\base.py:493: UserWarning: X does not have valid feature names, but KNeighborsClassifier was fitted with feature names\n",
      "  warnings.warn(\n"
     ]
    }
   ],
   "source": [
    "# importing the libriries\n",
    "import pandas as pd\n",
    "import numpy as np\n",
    "import seaborn as sns\n",
    "from sklearn.model_selection import train_test_split\n",
    "from sklearn.neighbors import KNeighborsClassifier\n",
    " \n",
    "#import the dataset\n",
    "df = sns.load_dataset('iris')\n",
    "\n",
    "# Naming the data\n",
    "x = df.drop(columns='species')\n",
    "y = df['species']\n",
    "\n",
    "# spliting the data into training and testing part\n",
    "x_train,x_test,y_train,t_test =  train_test_split(x,y ,test_size=0.2, random_state=42)\n",
    "\n",
    "# model creating (speciefying the k value)\n",
    "model = KNeighborsClassifier(n_neighbors=3)\n",
    "\n",
    "#training the model\n",
    "model.fit(x_train,y_train)\n",
    "\n",
    "# doing the prediction \n",
    "print(\"Predicted value : \",model.predict([[3.0,5.2,0.9,1.6]]))\n",
    "# these are the input ( x ) values bases on that it will find the feature ( y ) value for me"
   ]
  },
  {
   "cell_type": "markdown",
   "metadata": {},
   "source": [
    "___"
   ]
  },
  {
   "cell_type": "markdown",
   "metadata": {},
   "source": []
  }
 ],
 "metadata": {
  "kernelspec": {
   "display_name": "Python 3",
   "language": "python",
   "name": "python3"
  },
  "language_info": {
   "codemirror_mode": {
    "name": "ipython",
    "version": 3
   },
   "file_extension": ".py",
   "mimetype": "text/x-python",
   "name": "python",
   "nbconvert_exporter": "python",
   "pygments_lexer": "ipython3",
   "version": "3.11.3"
  }
 },
 "nbformat": 4,
 "nbformat_minor": 2
}
