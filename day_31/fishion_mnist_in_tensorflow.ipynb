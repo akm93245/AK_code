{
 "cells": [
  {
   "cell_type": "markdown",
   "metadata": {},
   "source": [
    "<h1><center>Day 31\n"
   ]
  },
  {
   "cell_type": "markdown",
   "metadata": {},
   "source": [
    "<h1><center>Fishion Mnist in Tensorflow"
   ]
  },
  {
   "cell_type": "code",
   "execution_count": 18,
   "metadata": {},
   "outputs": [],
   "source": [
    "import tensorflow as tf\n",
    "import pandas as pd\n",
    "import numpy as np\n",
    "import seaborn as sns\n",
    "import matplotlib.pyplot as plt\n",
    "from tensorflow import keras"
   ]
  },
  {
   "cell_type": "code",
   "execution_count": 19,
   "metadata": {},
   "outputs": [],
   "source": [
    "fmnist = keras.datasets.fashion_mnist"
   ]
  },
  {
   "cell_type": "code",
   "execution_count": 20,
   "metadata": {},
   "outputs": [],
   "source": [
    "(X_train,y_train),(X_test,y_test)=fmnist.load_data()\n",
    "assert X_train.shape == ( 60000 , 28 , 28 )\n",
    "assert X_test.shape == (10000 ,28 ,28 )\n",
    "assert y_train.shape == (60000,)\n",
    "assert y_test.shape == (10000,)\n",
    "\n"
   ]
  },
  {
   "cell_type": "code",
   "execution_count": 21,
   "metadata": {},
   "outputs": [
    {
     "name": "stdout",
     "output_type": "stream",
     "text": [
      "train X=(60000, 28, 28), y=(60000,)\n",
      "train X=(10000, 28, 28), y=(10000,)\n"
     ]
    }
   ],
   "source": [
    "print('train X=%s, y=%s'% (X_train.shape, y_train.shape))\n",
    "print('train X=%s, y=%s'% (X_test.shape, y_test.shape))"
   ]
  },
  {
   "cell_type": "code",
   "execution_count": 22,
   "metadata": {},
   "outputs": [
    {
     "data": {
      "image/png": "[encoded data removed]",
      "text/plain": [
       "<Figure size 640x480 with 9 Axes>"
      ]
     },
     "metadata": {},
     "output_type": "display_data"
    }
   ],
   "source": [
    "# Assuming X_train is a dataset with image data\n",
    "import matplotlib.pyplot as plt\n",
    "\n",
    "# Iterate over the first 9 images\n",
    "for i in range(9):  # Changed (9) to range(9)\n",
    "    plt.subplot(330 + 1 + i)  # Correct usage of subplot\n",
    "    # Plot raw pixel data\n",
    "    plt.imshow(X_train[i], cmap=plt.get_cmap('gray'))  # Display the ith image\n",
    "    plt.axis('off')  # Hide axes for better visualization\n",
    "# Show all plots\n",
    "plt.tight_layout()  # Adjust spacing between subplots\n",
    "plt.show()\n"
   ]
  },
  {
   "cell_type": "code",
   "execution_count": 23,
   "metadata": {},
   "outputs": [],
   "source": [
    "# X_train = X_train / 255.0\n",
    "# y_train = y_test / 255.0"
   ]
  },
  {
   "cell_type": "code",
   "execution_count": 24,
   "metadata": {},
   "outputs": [],
   "source": [
    "model = keras.Sequential([\n",
    "    keras.layers.Flatten(input_shape = (28,28)),\n",
    "    keras.layers.Dense(units=128, activation='relu'),\n",
    "    keras.layers.Dense(units=10, activation='softmax')\n",
    "])"
   ]
  },
  {
   "cell_type": "code",
   "execution_count": 25,
   "metadata": {},
   "outputs": [
    {
     "name": "stdout",
     "output_type": "stream",
     "text": [
      "Epoch 1/10\n",
      "\u001b[1m1875/1875\u001b[0m \u001b[32m━━━━━━━━━━━━━━━━━━━━\u001b[0m\u001b[37m\u001b[0m \u001b[1m8s\u001b[0m 3ms/step - accuracy: 0.6854 - loss: 11.9027\n",
      "Epoch 2/10\n",
      "\u001b[1m1875/1875\u001b[0m \u001b[32m━━━━━━━━━━━━━━━━━━━━\u001b[0m\u001b[37m\u001b[0m \u001b[1m10s\u001b[0m 5ms/step - accuracy: 0.7661 - loss: 0.6769\n",
      "Epoch 3/10\n",
      "\u001b[1m1875/1875\u001b[0m \u001b[32m━━━━━━━━━━━━━━━━━━━━\u001b[0m\u001b[37m\u001b[0m \u001b[1m6s\u001b[0m 3ms/step - accuracy: 0.8003 - loss: 0.5675\n",
      "Epoch 4/10\n",
      "\u001b[1m1875/1875\u001b[0m \u001b[32m━━━━━━━━━━━━━━━━━━━━\u001b[0m\u001b[37m\u001b[0m \u001b[1m5s\u001b[0m 3ms/step - accuracy: 0.8078 - loss: 0.5544\n",
      "Epoch 5/10\n",
      "\u001b[1m1875/1875\u001b[0m \u001b[32m━━━━━━━━━━━━━━━━━━━━\u001b[0m\u001b[37m\u001b[0m \u001b[1m6s\u001b[0m 3ms/step - accuracy: 0.8158 - loss: 0.5255\n",
      "Epoch 6/10\n",
      "\u001b[1m1875/1875\u001b[0m \u001b[32m━━━━━━━━━━━━━━━━━━━━\u001b[0m\u001b[37m\u001b[0m \u001b[1m6s\u001b[0m 3ms/step - accuracy: 0.8359 - loss: 0.4779\n",
      "Epoch 7/10\n",
      "\u001b[1m1875/1875\u001b[0m \u001b[32m━━━━━━━━━━━━━━━━━━━━\u001b[0m\u001b[37m\u001b[0m \u001b[1m5s\u001b[0m 3ms/step - accuracy: 0.8356 - loss: 0.4738\n",
      "Epoch 8/10\n",
      "\u001b[1m1875/1875\u001b[0m \u001b[32m━━━━━━━━━━━━━━━━━━━━\u001b[0m\u001b[37m\u001b[0m \u001b[1m6s\u001b[0m 3ms/step - accuracy: 0.8349 - loss: 0.4804\n",
      "Epoch 9/10\n",
      "\u001b[1m1875/1875\u001b[0m \u001b[32m━━━━━━━━━━━━━━━━━━━━\u001b[0m\u001b[37m\u001b[0m \u001b[1m6s\u001b[0m 3ms/step - accuracy: 0.8433 - loss: 0.4556\n",
      "Epoch 10/10\n",
      "\u001b[1m1875/1875\u001b[0m \u001b[32m━━━━━━━━━━━━━━━━━━━━\u001b[0m\u001b[37m\u001b[0m \u001b[1m6s\u001b[0m 3ms/step - accuracy: 0.8474 - loss: 0.4556\n",
      "\u001b[1m313/313\u001b[0m \u001b[32m━━━━━━━━━━━━━━━━━━━━\u001b[0m\u001b[37m\u001b[0m \u001b[1m1s\u001b[0m 2ms/step - accuracy: 0.8497 - loss: 0.4813\n",
      "model Accuracy :  0.8453999757766724\n"
     ]
    }
   ],
   "source": [
    "model.compile(optimizer='adam', loss='sparse_categorical_crossentropy', metrics=['accuracy'])\n",
    "\n",
    "# train the model and transform it \n",
    "model.fit(X_train, y_train, epochs=10)\n",
    "\n",
    "# evaluate the model\n",
    "test_loss , test_acc = model.evaluate(X_test,y_test)\n",
    "\n",
    "# print the accuracy \n",
    "print('model Accuracy : ',test_acc)"
   ]
  },
  {
   "cell_type": "code",
   "execution_count": 26,
   "metadata": {},
   "outputs": [
    {
     "name": "stdout",
     "output_type": "stream",
     "text": [
      "\u001b[1m313/313\u001b[0m \u001b[32m━━━━━━━━━━━━━━━━━━━━\u001b[0m\u001b[37m\u001b[0m \u001b[1m1s\u001b[0m 3ms/step\n",
      "[[2.6102261e-26 8.7137033e-25 0.0000000e+00 4.2399150e-28 0.0000000e+00\n",
      "  5.0582677e-02 1.1331074e-27 2.1936348e-02 1.4514288e-13 9.2748106e-01]\n",
      " [6.2010478e-04 3.1207016e-11 9.9484622e-01 1.8367832e-06 3.6858912e-03\n",
      "  7.4636660e-21 8.4597402e-04 0.0000000e+00 9.3560985e-08 0.0000000e+00]\n",
      " [4.0497574e-11 9.9999988e-01 1.5587531e-14 9.9748465e-10 1.5044688e-07\n",
      "  5.3369445e-28 8.7396802e-22 0.0000000e+00 8.7242046e-19 0.0000000e+00]\n",
      " [1.4752122e-09 9.9996281e-01 4.4101315e-12 7.5117845e-07 3.6534493e-05\n",
      "  2.5604679e-31 5.2960098e-18 0.0000000e+00 3.1887058e-16 0.0000000e+00]\n",
      " [5.4731466e-02 5.3991266e-03 2.0671952e-01 1.0309627e-01 1.0140474e-01\n",
      "  3.7843897e-06 4.9529037e-01 7.5433590e-14 3.3354703e-02 2.2606620e-11]\n",
      " [1.3616218e-06 9.9999428e-01 1.3929416e-10 1.3551860e-06 3.1012942e-06\n",
      "  5.0508756e-24 7.9562169e-15 0.0000000e+00 2.5977797e-14 0.0000000e+00]\n",
      " [3.3037964e-04 7.9544924e-07 1.5997547e-01 1.7158207e-02 5.8333397e-01\n",
      "  2.3836534e-25 2.3919390e-01 0.0000000e+00 7.2902094e-06 0.0000000e+00]\n",
      " [9.4247152e-06 2.7710798e-22 1.4598406e-04 4.7533258e-04 4.9100525e-04\n",
      "  1.6101375e-26 9.9887818e-01 0.0000000e+00 3.9330659e-09 2.8700519e-26]\n",
      " [0.0000000e+00 0.0000000e+00 0.0000000e+00 0.0000000e+00 0.0000000e+00\n",
      "  1.0000000e+00 0.0000000e+00 4.4413407e-21 7.8689489e-36 0.0000000e+00]\n",
      " [0.0000000e+00 0.0000000e+00 0.0000000e+00 0.0000000e+00 0.0000000e+00\n",
      "  1.4151492e-04 0.0000000e+00 9.9980968e-01 3.5458900e-08 4.8784201e-05]]\n",
      "[<tf.Tensor: shape=(), dtype=int64, numpy=9>, <tf.Tensor: shape=(), dtype=int64, numpy=2>, <tf.Tensor: shape=(), dtype=int64, numpy=1>, <tf.Tensor: shape=(), dtype=int64, numpy=1>, <tf.Tensor: shape=(), dtype=int64, numpy=6>, <tf.Tensor: shape=(), dtype=int64, numpy=1>, <tf.Tensor: shape=(), dtype=int64, numpy=4>, <tf.Tensor: shape=(), dtype=int64, numpy=6>, <tf.Tensor: shape=(), dtype=int64, numpy=5>, <tf.Tensor: shape=(), dtype=int64, numpy=7>]\n"
     ]
    }
   ],
   "source": [
    "# prediction\n",
    "predictions = model.predict(X_test)\n",
    "\n",
    "# print the shape of the array prediction \n",
    "print(predictions[:10])\n",
    "\n",
    "#convert the prediction into class labels\n",
    "class_lable = [tf.argmax(prediction) for prediction in predictions]\n",
    "\n",
    "\n",
    "# print the first 10 class labels\n",
    "print(class_lable[:10])"
   ]
  }
 ],
 "metadata": {
  "kernelspec": {
   "display_name": "tf_env",
   "language": "python",
   "name": "python3"
  },
  "language_info": {
   "codemirror_mode": {
    "name": "ipython",
    "version": 3
   },
   "file_extension": ".py",
   "mimetype": "text/x-python",
   "name": "python",
   "nbconvert_exporter": "python",
   "pygments_lexer": "ipython3",
   "version": "3.9.20"
  }
 },
 "nbformat": 4,
 "nbformat_minor": 2
}
