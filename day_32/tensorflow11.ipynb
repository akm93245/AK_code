{
 "cells": [
  {
   "cell_type": "code",
   "execution_count": 1,
   "metadata": {},
   "outputs": [],
   "source": [
    "import pandas as pd\n",
    "import seaborn as sns\n",
    "import matplotlib.pyplot as plt\n",
    "import numpy as np\n",
    "\n",
    "import tensorflow as tf\n",
    "from tensorflow import keras"
   ]
  },
  {
   "cell_type": "code",
   "execution_count": 2,
   "metadata": {},
   "outputs": [],
   "source": [
    "fmnist = keras.datasets.fashion_mnist"
   ]
  },
  {
   "cell_type": "code",
   "execution_count": 3,
   "metadata": {},
   "outputs": [],
   "source": [
    "(train_img ,train_labels ),(test_img,test_labels)=fmnist.load_data()"
   ]
  },
  {
   "cell_type": "code",
   "execution_count": 4,
   "metadata": {},
   "outputs": [
    {
     "name": "stdout",
     "output_type": "stream",
     "text": [
      "label : 9\n",
      "\n",
      "IMG PIXEL ARRAY :\n",
      " [[  0   0   0   0   0   0   0   0   0   0   0   0   0   0   0   0   0   0   0   0   0   0   0   0   0   0   0   0]\n",
      " [  0   0   0   0   0   0   0   0   0   0   0   0   0   0   0   0   0   0   0   0   0   0   0   0   0   0   0   0]\n",
      " [  0   0   0   0   0   0   0   0   0   0   0   0   0   0   0   0   0   0   0   0   0   0   0   0   0   0   0   0]\n",
      " [  0   0   0   0   0   0   0   0   0   0   0   0   0   0   0   0   0   0   0   0   0   0   0   0   0   0   0   0]\n",
      " [  0   0   0   0   0   0   0   0   0   0   0   0   0   0   0   0   0   0   0   0   0   0   0   0   0   0   0   0]\n",
      " [  0   0   0   0   0   0   0   0   0   0   0   0   0   0   0   0  82 187  26   0   0   0   0   0   0   0   0   0]\n",
      " [  0   0   0   0   0   0   0   0   0   1   0   0   1   0   0 179 240 237 255 240 139  83  64  43  60  54   0   1]\n",
      " [  0   0   0   0   0   0   0   0   0   1   0   0   1   0  58 239 222 234 238 246 252 254 255 248 255 187   0   0]\n",
      " [  0   0   0   0   0   0   0   0   0   0   2   3   0   0 194 239 226 237 235 232 230 234 234 233 249 171   0   0]\n",
      " [  0   0   0   0   0   0   0   0   0   1   1   0   0  10 255 226 242 239 238 239 240 239 242 238 248 192   0   0]\n",
      " [  0   0   0   0   0   0   0   0   0   0   0   0   0 172 245 229 240 241 240 241 243 243 241 227 250 209   0   0]\n",
      " [  0   0   0   0   0   0   0   0   0   6   5   0  62 255 230 236 239 241 242 241 242 242 238 238 242 253   0   0]\n",
      " [  0   0   0   0   0   0   0   0   0   3   0   0 255 235 228 244 241 241 244 243 243 244 243 239 235 255  22   0]\n",
      " [  0   0   0   0   0   0   0   0   0   0   0 246 228 220 245 243 237 241 242 242 242 243 239 237 235 253 106   0]\n",
      " [  0   0   3   4   4   2   1   0   0  18 243 228 231 241 243 237 238 242 241 240 240 240 235 237 236 246 234   0]\n",
      " [  1   0   0   0   0   0   0   0  22 255 238 227 238 239 237 241 241 237 236 238 239 239 239 239 239 237 255   0]\n",
      " [  0   0   0   0   0  25  83 168 255 225 225 235 228 230 227 225 227 231 232 237 240 236 238 239 239 235 251  62]\n",
      " [  0 165 225 220 224 255 255 233 229 223 227 228 231 232 235 237 233 230 228 230 233 232 235 233 234 235 255  58]\n",
      " [ 52 251 221 226 227 225 225 225 226 226 225 227 231 229 232 239 245 250 251 252 254 254 252 254 252 235 255   0]\n",
      " [ 31 208 230 233 233 237 236 236 241 235 241 247 251 254 242 236 233 227 219 202 193 189 186 181 171 165 190  42]\n",
      " [ 77 199 172 188 199 202 218 219 220 229 234 222 213 209 207 210 203 184 152 171 165 162 162 167 168 157 192  78]\n",
      " [  0  45 101 140 159 174 182 186 185 188 195 197 188 175 133  70  19   0   0 209 231 218 222 224 227 217 229  93]\n",
      " [  0   0   0   0   0   0   2  24  37  45  32  18  11   0   0   0   0   0   0  72  51  53  37  34  29  31   5   0]\n",
      " [  0   0   0   0   0   0   0   0   0   0   0   0   0   0   0   0   0   0   0   0   0   0   0   0   0   0   0   0]\n",
      " [  0   0   0   0   0   0   0   0   0   0   0   0   0   0   0   0   0   0   0   0   0   0   0   0   0   0   0   0]\n",
      " [  0   0   0   0   0   0   0   0   0   0   0   0   0   0   0   0   0   0   0   0   0   0   0   0   0   0   0   0]\n",
      " [  0   0   0   0   0   0   0   0   0   0   0   0   0   0   0   0   0   0   0   0   0   0   0   0   0   0   0   0]\n",
      " [  0   0   0   0   0   0   0   0   0   0   0   0   0   0   0   0   0   0   0   0   0   0   0   0   0   0   0   0]]\n"
     ]
    },
    {
     "data": {
      "text/plain": [
       "<matplotlib.image.AxesImage at 0x1a687906c10>"
      ]
     },
     "execution_count": 4,
     "metadata": {},
     "output_type": "execute_result"
    },
    {
     "data": {
      "image/png": "[encoded data removed]",
      "text/plain": [
       "<Figure size 640x480 with 1 Axes>"
      ]
     },
     "metadata": {},
     "output_type": "display_data"
    }
   ],
   "source": [
    "# you can index from 0 to 59999\n",
    "index = 42\n",
    "\n",
    "# set number of character per row when printing\n",
    "np.set_printoptions(linewidth=320)\n",
    "\n",
    "\n",
    "# print the label and the image\n",
    "print(f\"label : {train_labels[index]}\")\n",
    "print(f\"\\nIMG PIXEL ARRAY :\\n {train_img[index]}\")\n",
    "\n",
    "# visulize the img\n",
    "plt.imshow(train_img[index])"
   ]
  },
  {
   "cell_type": "code",
   "execution_count": 5,
   "metadata": {},
   "outputs": [],
   "source": [
    "# normalize the pixel values of train and test images ( 0 - 1) ranged \n",
    "train_img = train_img / 255.0\n",
    "test_img = test_img / 255.0"
   ]
  },
  {
   "cell_type": "code",
   "execution_count": 6,
   "metadata": {},
   "outputs": [
    {
     "name": "stdout",
     "output_type": "stream",
     "text": [
      "label : 9\n",
      "\n",
      "IMG PIXEL ARRAY :\n",
      " [[0.         0.         0.         0.         0.         0.         0.         0.         0.         0.         0.         0.         0.         0.         0.         0.         0.         0.         0.         0.         0.         0.         0.         0.         0.         0.         0.         0.        ]\n",
      " [0.         0.         0.         0.         0.         0.         0.         0.         0.         0.         0.         0.         0.         0.         0.         0.         0.         0.         0.         0.         0.         0.         0.         0.         0.         0.         0.         0.        ]\n",
      " [0.         0.         0.         0.         0.         0.         0.         0.         0.         0.         0.         0.         0.         0.         0.         0.         0.         0.         0.         0.         0.         0.         0.         0.         0.         0.         0.         0.        ]\n",
      " [0.         0.         0.         0.         0.         0.         0.         0.         0.         0.         0.         0.         0.         0.         0.         0.         0.         0.         0.         0.         0.         0.         0.         0.         0.         0.         0.         0.        ]\n",
      " [0.         0.         0.         0.         0.         0.         0.         0.         0.         0.         0.         0.         0.         0.         0.         0.         0.         0.         0.         0.         0.         0.         0.         0.         0.         0.         0.         0.        ]\n",
      " [0.         0.         0.         0.         0.         0.         0.         0.         0.         0.         0.         0.         0.         0.         0.         0.         0.32156863 0.73333333 0.10196078 0.         0.         0.         0.         0.         0.         0.         0.         0.        ]\n",
      " [0.         0.         0.         0.         0.         0.         0.         0.         0.         0.00392157 0.         0.         0.00392157 0.         0.         0.70196078 0.94117647 0.92941176 1.         0.94117647 0.54509804 0.3254902  0.25098039 0.16862745 0.23529412 0.21176471 0.         0.00392157]\n",
      " [0.         0.         0.         0.         0.         0.         0.         0.         0.         0.00392157 0.         0.         0.00392157 0.         0.22745098 0.9372549  0.87058824 0.91764706 0.93333333 0.96470588 0.98823529 0.99607843 1.         0.97254902 1.         0.73333333 0.         0.        ]\n",
      " [0.         0.         0.         0.         0.         0.         0.         0.         0.         0.         0.00784314 0.01176471 0.         0.         0.76078431 0.9372549  0.88627451 0.92941176 0.92156863 0.90980392 0.90196078 0.91764706 0.91764706 0.91372549 0.97647059 0.67058824 0.         0.        ]\n",
      " [0.         0.         0.         0.         0.         0.         0.         0.         0.         0.00392157 0.00392157 0.         0.         0.03921569 1.         0.88627451 0.94901961 0.9372549  0.93333333 0.9372549  0.94117647 0.9372549  0.94901961 0.93333333 0.97254902 0.75294118 0.         0.        ]\n",
      " [0.         0.         0.         0.         0.         0.         0.         0.         0.         0.         0.         0.         0.         0.6745098  0.96078431 0.89803922 0.94117647 0.94509804 0.94117647 0.94509804 0.95294118 0.95294118 0.94509804 0.89019608 0.98039216 0.81960784 0.         0.        ]\n",
      " [0.         0.         0.         0.         0.         0.         0.         0.         0.         0.02352941 0.01960784 0.         0.24313725 1.         0.90196078 0.9254902  0.9372549  0.94509804 0.94901961 0.94509804 0.94901961 0.94901961 0.93333333 0.93333333 0.94901961 0.99215686 0.         0.        ]\n",
      " [0.         0.         0.         0.         0.         0.         0.         0.         0.         0.01176471 0.         0.         1.         0.92156863 0.89411765 0.95686275 0.94509804 0.94509804 0.95686275 0.95294118 0.95294118 0.95686275 0.95294118 0.9372549  0.92156863 1.         0.08627451 0.        ]\n",
      " [0.         0.         0.         0.         0.         0.         0.         0.         0.         0.         0.         0.96470588 0.89411765 0.8627451  0.96078431 0.95294118 0.92941176 0.94509804 0.94901961 0.94901961 0.94901961 0.95294118 0.9372549  0.92941176 0.92156863 0.99215686 0.41568627 0.        ]\n",
      " [0.         0.         0.01176471 0.01568627 0.01568627 0.00784314 0.00392157 0.         0.         0.07058824 0.95294118 0.89411765 0.90588235 0.94509804 0.95294118 0.92941176 0.93333333 0.94901961 0.94509804 0.94117647 0.94117647 0.94117647 0.92156863 0.92941176 0.9254902  0.96470588 0.91764706 0.        ]\n",
      " [0.00392157 0.         0.         0.         0.         0.         0.         0.         0.08627451 1.         0.93333333 0.89019608 0.93333333 0.9372549  0.92941176 0.94509804 0.94509804 0.92941176 0.9254902  0.93333333 0.9372549  0.9372549  0.9372549  0.9372549  0.9372549  0.92941176 1.         0.        ]\n",
      " [0.         0.         0.         0.         0.         0.09803922 0.3254902  0.65882353 1.         0.88235294 0.88235294 0.92156863 0.89411765 0.90196078 0.89019608 0.88235294 0.89019608 0.90588235 0.90980392 0.92941176 0.94117647 0.9254902  0.93333333 0.9372549  0.9372549  0.92156863 0.98431373 0.24313725]\n",
      " [0.         0.64705882 0.88235294 0.8627451  0.87843137 1.         1.         0.91372549 0.89803922 0.8745098  0.89019608 0.89411765 0.90588235 0.90980392 0.92156863 0.92941176 0.91372549 0.90196078 0.89411765 0.90196078 0.91372549 0.90980392 0.92156863 0.91372549 0.91764706 0.92156863 1.         0.22745098]\n",
      " [0.20392157 0.98431373 0.86666667 0.88627451 0.89019608 0.88235294 0.88235294 0.88235294 0.88627451 0.88627451 0.88235294 0.89019608 0.90588235 0.89803922 0.90980392 0.9372549  0.96078431 0.98039216 0.98431373 0.98823529 0.99607843 0.99607843 0.98823529 0.99607843 0.98823529 0.92156863 1.         0.        ]\n",
      " [0.12156863 0.81568627 0.90196078 0.91372549 0.91372549 0.92941176 0.9254902  0.9254902  0.94509804 0.92156863 0.94509804 0.96862745 0.98431373 0.99607843 0.94901961 0.9254902  0.91372549 0.89019608 0.85882353 0.79215686 0.75686275 0.74117647 0.72941176 0.70980392 0.67058824 0.64705882 0.74509804 0.16470588]\n",
      " [0.30196078 0.78039216 0.6745098  0.7372549  0.78039216 0.79215686 0.85490196 0.85882353 0.8627451  0.89803922 0.91764706 0.87058824 0.83529412 0.81960784 0.81176471 0.82352941 0.79607843 0.72156863 0.59607843 0.67058824 0.64705882 0.63529412 0.63529412 0.65490196 0.65882353 0.61568627 0.75294118 0.30588235]\n",
      " [0.         0.17647059 0.39607843 0.54901961 0.62352941 0.68235294 0.71372549 0.72941176 0.7254902  0.7372549  0.76470588 0.77254902 0.7372549  0.68627451 0.52156863 0.2745098  0.0745098  0.         0.         0.81960784 0.90588235 0.85490196 0.87058824 0.87843137 0.89019608 0.85098039 0.89803922 0.36470588]\n",
      " [0.         0.         0.         0.         0.         0.         0.00784314 0.09411765 0.14509804 0.17647059 0.1254902  0.07058824 0.04313725 0.         0.         0.         0.         0.         0.         0.28235294 0.2        0.20784314 0.14509804 0.13333333 0.11372549 0.12156863 0.01960784 0.        ]\n",
      " [0.         0.         0.         0.         0.         0.         0.         0.         0.         0.         0.         0.         0.         0.         0.         0.         0.         0.         0.         0.         0.         0.         0.         0.         0.         0.         0.         0.        ]\n",
      " [0.         0.         0.         0.         0.         0.         0.         0.         0.         0.         0.         0.         0.         0.         0.         0.         0.         0.         0.         0.         0.         0.         0.         0.         0.         0.         0.         0.        ]\n",
      " [0.         0.         0.         0.         0.         0.         0.         0.         0.         0.         0.         0.         0.         0.         0.         0.         0.         0.         0.         0.         0.         0.         0.         0.         0.         0.         0.         0.        ]\n",
      " [0.         0.         0.         0.         0.         0.         0.         0.         0.         0.         0.         0.         0.         0.         0.         0.         0.         0.         0.         0.         0.         0.         0.         0.         0.         0.         0.         0.        ]\n",
      " [0.         0.         0.         0.         0.         0.         0.         0.         0.         0.         0.         0.         0.         0.         0.         0.         0.         0.         0.         0.         0.         0.         0.         0.         0.         0.         0.         0.        ]]\n"
     ]
    },
    {
     "data": {
      "text/plain": [
       "<matplotlib.image.AxesImage at 0x1a68ff63d90>"
      ]
     },
     "execution_count": 6,
     "metadata": {},
     "output_type": "execute_result"
    },
    {
     "data": {
      "image/png": "[encoded data removed]",
      "text/plain": [
       "<Figure size 640x480 with 1 Axes>"
      ]
     },
     "metadata": {},
     "output_type": "display_data"
    }
   ],
   "source": [
    "# you can index from 0 to 59999\n",
    "index = 42\n",
    "\n",
    "# set number of character per row when printing\n",
    "np.set_printoptions(linewidth=320)\n",
    "\n",
    "\n",
    "# print the label and the image\n",
    "print(f\"label : {train_labels[index]}\")\n",
    "print(f\"\\nIMG PIXEL ARRAY :\\n {train_img[index]}\")\n",
    "\n",
    "# visulize the img\n",
    "plt.imshow(train_img[index])"
   ]
  },
  {
   "cell_type": "markdown",
   "metadata": {},
   "source": [
    "Using callback to get out desired accuracy (this will stop the epoch once we get our desired accuracy)"
   ]
  },
  {
   "cell_type": "code",
   "execution_count": 19,
   "metadata": {},
   "outputs": [],
   "source": [
    "# call back function\n",
    "class mycallback(tf.keras.callbacks.Callback):\n",
    "    def on_epoch_end(self, epoch, logs=None):\n",
    "        '''\n",
    "        halt the training after reaching 60 percent accuracy\n",
    "        \n",
    "        Arg:\n",
    "            epoch(integer) - index of epoch (required but unused in the fucntion definition below)\n",
    "            logs(dict) - metrix x result from training epoch\n",
    "            '''\n",
    "# check accuracy\n",
    "        if(logs.get('loss')< 0.4 ):\n",
    "        # stop if treshlod is met\n",
    "            print(' n\\ loss is lower than 0.4 so cancelling the training')\n",
    "            self.model.stop_training = True\n",
    "        \n",
    "# intentiate class\n",
    "callbacks = mycallback()\n",
    "    "
   ]
  },
  {
   "cell_type": "code",
   "execution_count": 20,
   "metadata": {},
   "outputs": [],
   "source": [
    "# build the classification model\n",
    "model = tf.keras.models.Sequential([\n",
    "    keras.layers.Flatten(),\n",
    "    keras.layers.Dense(128, activation='relu'),\n",
    "    keras.layers.Dense(10, activation='softmax')\n",
    "    \n",
    "])"
   ]
  },
  {
   "cell_type": "code",
   "execution_count": 21,
   "metadata": {},
   "outputs": [
    {
     "name": "stdout",
     "output_type": "stream",
     "text": [
      "Epoch 1/5\n",
      "\u001b[1m1875/1875\u001b[0m \u001b[32m━━━━━━━━━━━━━━━━━━━━\u001b[0m\u001b[37m\u001b[0m \u001b[1m5s\u001b[0m 2ms/step - accuracy: 0.7795 - loss: 0.6347\n",
      "Epoch 2/5\n",
      "\u001b[1m1855/1875\u001b[0m \u001b[32m━━━━━━━━━━━━━━━━━━━\u001b[0m\u001b[37m━\u001b[0m \u001b[1m0s\u001b[0m 2ms/step - accuracy: 0.8648 - loss: 0.3805 n\\ loss is lower than 0.4 so cancelling the training\n",
      "\u001b[1m1875/1875\u001b[0m \u001b[32m━━━━━━━━━━━━━━━━━━━━\u001b[0m\u001b[37m\u001b[0m \u001b[1m4s\u001b[0m 2ms/step - accuracy: 0.8648 - loss: 0.3804\n"
     ]
    },
    {
     "data": {
      "text/plain": [
       "<keras.src.callbacks.history.History at 0x1a68cc29430>"
      ]
     },
     "execution_count": 21,
     "metadata": {},
     "output_type": "execute_result"
    }
   ],
   "source": [
    "# fitting on the model\n",
    "model.compile(optimizer='adam',\n",
    "              loss  = 'sparse_categorical_crossentropy',\n",
    "              metrics=['accuracy']\n",
    "              \n",
    "              )\n",
    "\n",
    "model.fit(train_img,train_labels, epochs=5 , callbacks=[callbacks])"
   ]
  }
 ],
 "metadata": {
  "kernelspec": {
   "display_name": "tf_env",
   "language": "python",
   "name": "python3"
  },
  "language_info": {
   "codemirror_mode": {
    "name": "ipython",
    "version": 3
   },
   "file_extension": ".py",
   "mimetype": "text/x-python",
   "name": "python",
   "nbconvert_exporter": "python",
   "pygments_lexer": "ipython3",
   "version": "3.9.20"
  }
 },
 "nbformat": 4,
 "nbformat_minor": 2
}
