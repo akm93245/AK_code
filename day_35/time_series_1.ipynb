{
 "cells": [
  {
   "cell_type": "markdown",
   "metadata": {},
   "source": [
    "<h1><center>Time Series"
   ]
  },
  {
   "cell_type": "markdown",
   "metadata": {},
   "source": [
    "**Time Series Remainder** \\\n",
    "\" What has happened in the past can only be reflected in the near future, and what has not happened can not\"\n",
    "\n",
    "\"If I know what has happened in the past then I will know what will be in the present, If I know what is there in the  present then I can forecast what will happen in the future.\""
   ]
  },
  {
   "cell_type": "markdown",
   "metadata": {},
   "source": [
    "**Time Series** : A time series is a set of observation taken at a speciefic time usually at equal intervals.\\\n",
    "o\\\n",
    "A sequence of datapoint collected in time matter.\\\n",
    "e.g : flights or train timings"
   ]
  },
  {
   "cell_type": "markdown",
   "metadata": {},
   "source": [
    "**Components**\n",
    "\n",
    "**Trend :** Pattern of data which shows general direction over time.\n",
    "\n",
    "**Stationarity :** Which doesn't change overtime.\n",
    "\n",
    "**Cyclic petterns :** Flucuation in data(time series) that are not of a fixed period. (a random repeatation of an event).\n",
    "\n",
    "**Autocorrelation :** It is measure of how a signal or a time series is related to itself at different time lags>(measure of realtionship between a varaible current vs past)\n",
    "\n",
    "**Lags :** time difference between two related points of time.(Lag means comparing the values of the time series ata time(t) e.g (X(t)))  with its value at an earlier or later time.\n",
    "\n",
    "**Noise :** without any pattern of data(random shuffle)\n",
    "\n",
    "**Moving Average :** It smooths out a short term fluctuation in time series to identify tred or period over time.\\\n",
    "It calculates average of data points within a sliding window which moves accross the dataset.\n",
    "\n",
    "**ARIMA :** (AutoRegressive Integrated Moving Average)\\\n",
    "It is a populalar focasting model.\\\n",
    "IT captures the autocorrelation in data accounts for trends or non stationarity and model noise to produce accurate predictions.\n",
    "\n",
    "**Forecasting :** time series data predictions.\n",
    "\n",
    "**Temporal DAta :** data associated with time.\n"
   ]
  },
  {
   "cell_type": "markdown",
   "metadata": {},
   "source": []
  }
 ],
 "metadata": {
  "language_info": {
   "name": "python"
  }
 },
 "nbformat": 4,
 "nbformat_minor": 2
}
