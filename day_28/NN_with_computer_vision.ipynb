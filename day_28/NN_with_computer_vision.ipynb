{
 "cells": [
  {
   "cell_type": "markdown",
   "metadata": {},
   "source": [
    "<h1><center>Day 28\n"
   ]
  },
  {
   "cell_type": "markdown",
   "metadata": {},
   "source": [
    "\n",
    "<h1><center>Tensorflow(NN) with Computer Vision"
   ]
  },
  {
   "cell_type": "code",
   "execution_count": 10,
   "metadata": {},
   "outputs": [],
   "source": [
    "import tensorflow as tf"
   ]
  },
  {
   "cell_type": "code",
   "execution_count": 11,
   "metadata": {},
   "outputs": [],
   "source": [
    "fmnist = tf.keras.datasets.fashion_mnist"
   ]
  },
  {
   "cell_type": "code",
   "execution_count": 12,
   "metadata": {},
   "outputs": [],
   "source": [
    "(train_img ,train_labels ),(test_img,test_labels)=fmnist.load_data()"
   ]
  },
  {
   "cell_type": "code",
   "execution_count": 13,
   "metadata": {},
   "outputs": [],
   "source": [
    "import numpy as np\n",
    "import pandas as pd\n",
    "import matplotlib.pyplot as plt"
   ]
  },
  {
   "cell_type": "code",
   "execution_count": 14,
   "metadata": {},
   "outputs": [
    {
     "name": "stdout",
     "output_type": "stream",
     "text": [
      "label : 3\n",
      "\n",
      "IMG PIXEL ARRAY :\n",
      " [[  0   0   0   0   0   0   0   0  47  76 180 221 178 133 139  70 194 157  83  47   0   0   0   0   0   0   0   0]\n",
      " [  0   0   0   0   0   0   0  56 201 184 202 235 255   0  84 246 219 185 187 193  58   0   0   0   0   0   0   0]\n",
      " [  0   0   0   0   0   0   0 181 210 184 183 181 226 125 158 216 181 183 175 184 179   0   0   0   0   0   0   0]\n",
      " [  0   0   0   0   0   0   0 188 212 193 190 183 179 206 194 169 174 188 178 187 183   0   0   0   0   0   0   0]\n",
      " [  0   0   0   0   0   0  17 197 203 199 189 188 185 181 187 183 235 196 157 196 192  29   0   0   0   0   0   0]\n",
      " [  0   0   0   0   0   0  56 198 202 210 187 179 180 185 188 187 188 161 193 203 189  69   0   0   0   0   0   0]\n",
      " [  0   0   0   0   0   0  73 201 199 226 199 184 181 183 183 183 179 155 235 211 188  84   0   0   0   0   0   0]\n",
      " [  0   0   0   0   0   0  92 203 188 164 221 184 183 180 183 180 175 171 160 194 196  87   0   0   0   0   0   0]\n",
      " [  0   0   0   0   0   0  98 203 190  71 234 183 183 184 184 179 170 198  85 202 215 105   0   0   0   0   0   0]\n",
      " [  0   0   0   0   0   0  99 203 198  29 230 190 184 181 179 174 169 205  49 210 196 110   0   0   0   0   0   0]\n",
      " [  0   0   0   0   0   0 107 199 211   0 212 206 188 184 185 179 178 201   3 215 198 115   0   0   0   0   0   0]\n",
      " [  0   0   0   0   0   0 114 198 201   0 201 206 183 183 180 176 172 189   0 217 199 119   0   0   0   0   0   0]\n",
      " [  0   0   0   0   0   0 117 201 172  11 246 193 185 181 184 187 174 211  20 183 206 114   0   0   0   0   0   0]\n",
      " [  0   0   0   0   0   0 131 203 142  80 243 188 188 198 188 185 175 206  98 169 202 138   0   0   0   0   0   0]\n",
      " [  0   0   0   0   0   0 140 221 167 164 215 193 185 216 190 183 174 193 143 184 221 148   0   0   0   0   0   0]\n",
      " [  0   0   0   0   0   0   0  15  39 226 198 196 188 225 193 185 181 184 190  41  19   0   0   0   0   0   0   0]\n",
      " [  0   0   0   0   0   0   0   0  62 213 194 196 196 216 202 178 187 178 222  64   0   0   0   0   0   0   0   0]\n",
      " [  0   0   0   0   0   0   5   0 106 212 196 190 198 205 213 178 190 178 193 102   0   3   0   0   0   0   0   0]\n",
      " [  0   0   0   0   0   0   1   0 115 217 201 193 201 201 219 181 188 183 194 129   0   1   0   0   0   0   0   0]\n",
      " [  0   0   0   0   0   0   0   0 135 221 197 197 203 201 217 185 190 185 194 142   0   0   0   0   0   0   0   0]\n",
      " [  0   0   0   0   0   0   0   0 160 224 197 198 202 202 212 196 197 189 205 172   0   0   0   0   0   0   0   0]\n",
      " [  0   0   0   0   0   0   0   0 161 224 201 205 196 207 205 203 197 188 208 183   0   0   0   0   0   0   0   0]\n",
      " [  0   0   0   0   0   0   1   0 135 224 202 208 193 208 202 207 202 187 202 167   0   0   0   0   0   0   0   0]\n",
      " [  0   0   0   0   0   0   2   0 124 230 205 210 198 203 198 207 205 193 199 156   0   0   0   0   0   0   0   0]\n",
      " [  0   0   0   0   0   0   2   0 125 239 210 210 210 203 203 206 211 198 208 146   0   0   0   0   0   0   0   0]\n",
      " [  0   0   0   0   0   0   1   0  66 229 210 208 210 201 199 201 202 196 203 114   0   0   0   0   0   0   0   0]\n",
      " [  0   0   0   0   0   0   3   0  71 235 216 216 235 231 230 228 206 202 211 108   0   2   0   0   0   0   0   0]\n",
      " [  0   0   0   0   0   0   1   0   2 155 156 121 129 125 124 123 121 114 144  33   0   1   0   0   0   0   0   0]]\n"
     ]
    },
    {
     "data": {
      "text/plain": [
       "<matplotlib.image.AxesImage at 0x1eb3a9cd940>"
      ]
     },
     "execution_count": 14,
     "metadata": {},
     "output_type": "execute_result"
    },
    {
     "data": {
      "image/png": "[encoded data removed]",
      "text/plain": [
       "<Figure size 640x480 with 1 Axes>"
      ]
     },
     "metadata": {},
     "output_type": "display_data"
    }
   ],
   "source": [
    "# you can index from 0 to 59999\n",
    "index = 9000\n",
    "\n",
    "# set number of character per row when printing\n",
    "np.set_printoptions(linewidth=320)\n",
    "\n",
    "\n",
    "# print the label and the image\n",
    "print(f\"label : {train_labels[index]}\")\n",
    "print(f\"\\nIMG PIXEL ARRAY :\\n {train_img[index]}\")\n",
    "\n",
    "# visulize the img\n",
    "plt.imshow(train_img[index])"
   ]
  },
  {
   "cell_type": "code",
   "execution_count": 15,
   "metadata": {},
   "outputs": [],
   "source": [
    "# normalize the pixel values of train and test images ( 0 - 1) ranged \n",
    "train_img = train_img / 255.0\n",
    "test_img = test_img / 255.0"
   ]
  },
  {
   "cell_type": "code",
   "execution_count": 16,
   "metadata": {},
   "outputs": [],
   "source": [
    "from tensorflow import keras"
   ]
  },
  {
   "cell_type": "code",
   "execution_count": 17,
   "metadata": {},
   "outputs": [],
   "source": [
    "# build the classification model\n",
    "model = tf.keras.models.Sequential([\n",
    "    keras.layers.Flatten(),\n",
    "    keras.layers.Dense(128, activation='relu'),\n",
    "    keras.layers.Dense(10, activation='softmax')\n",
    "    \n",
    "])"
   ]
  },
  {
   "cell_type": "code",
   "execution_count": 18,
   "metadata": {},
   "outputs": [
    {
     "name": "stdout",
     "output_type": "stream",
     "text": [
      "input to softmax function [[-1.  0.  1.  2.  3.  4.]]\n",
      "output of softmax function : [[0.00426978 0.01160646 0.03154963 0.08576079 0.23312201 0.63369132]]\n",
      "sum of outputs : 1.0\n",
      "class with highest probability : 5\n"
     ]
    }
   ],
   "source": [
    "# declare simple inputs and convert it into tensors\n",
    "inputs = np.array([[-1.0, 0.0, 1.0, 2.0, 3.0, 4.0]])\n",
    "inputs = tf.convert_to_tensor(inputs)\n",
    "print(f'input to softmax function {inputs.numpy()}')\n",
    "\n",
    "# feed the inputs to a softmax activation function\n",
    "outputs = tf.keras.activations.softmax(inputs)\n",
    "print(f'output of softmax function : {outputs.numpy()}')\n",
    "\n",
    "# get the sum of all values after the softmax\n",
    "sum = tf.reduce_sum(outputs)\n",
    "print(f'sum of outputs : {sum}')\n",
    "\n",
    "# get the index with highest value\n",
    "prediction = np.argmax(outputs)\n",
    "print(f'class with highest probability : {prediction}')"
   ]
  },
  {
   "cell_type": "code",
   "execution_count": 19,
   "metadata": {},
   "outputs": [
    {
     "name": "stdout",
     "output_type": "stream",
     "text": [
      "Epoch 1/5\n",
      "\u001b[1m1875/1875\u001b[0m \u001b[32m━━━━━━━━━━━━━━━━━━━━\u001b[0m\u001b[37m\u001b[0m \u001b[1m11s\u001b[0m 5ms/step - accuracy: 0.7789 - loss: 0.6253\n",
      "Epoch 2/5\n",
      "\u001b[1m1875/1875\u001b[0m \u001b[32m━━━━━━━━━━━━━━━━━━━━\u001b[0m\u001b[37m\u001b[0m \u001b[1m9s\u001b[0m 5ms/step - accuracy: 0.8639 - loss: 0.3788\n",
      "Epoch 3/5\n",
      "\u001b[1m1875/1875\u001b[0m \u001b[32m━━━━━━━━━━━━━━━━━━━━\u001b[0m\u001b[37m\u001b[0m \u001b[1m9s\u001b[0m 4ms/step - accuracy: 0.8798 - loss: 0.3304\n",
      "Epoch 4/5\n",
      "\u001b[1m1875/1875\u001b[0m \u001b[32m━━━━━━━━━━━━━━━━━━━━\u001b[0m\u001b[37m\u001b[0m \u001b[1m9s\u001b[0m 5ms/step - accuracy: 0.8863 - loss: 0.3139\n",
      "Epoch 5/5\n",
      "\u001b[1m1875/1875\u001b[0m \u001b[32m━━━━━━━━━━━━━━━━━━━━\u001b[0m\u001b[37m\u001b[0m \u001b[1m9s\u001b[0m 5ms/step - accuracy: 0.8914 - loss: 0.2930\n"
     ]
    },
    {
     "data": {
      "text/plain": [
       "<keras.src.callbacks.history.History at 0x1eb347a5a30>"
      ]
     },
     "execution_count": 19,
     "metadata": {},
     "output_type": "execute_result"
    }
   ],
   "source": [
    "model.compile(optimizer='adam',\n",
    "              loss  = 'sparse_categorical_crossentropy',\n",
    "              metrics=['accuracy']\n",
    "              \n",
    "              )\n",
    "\n",
    "model.fit(train_img,train_labels, epochs=5)"
   ]
  },
  {
   "cell_type": "code",
   "execution_count": 20,
   "metadata": {},
   "outputs": [
    {
     "name": "stdout",
     "output_type": "stream",
     "text": [
      "\u001b[1m313/313\u001b[0m \u001b[32m━━━━━━━━━━━━━━━━━━━━\u001b[0m\u001b[37m\u001b[0m \u001b[1m2s\u001b[0m 5ms/step - accuracy: 0.8803 - loss: 0.3369\n"
     ]
    },
    {
     "data": {
      "text/plain": [
       "[0.33775532245635986, 0.8792999982833862]"
      ]
     },
     "execution_count": 20,
     "metadata": {},
     "output_type": "execute_result"
    }
   ],
   "source": [
    "model.evaluate(test_img,test_labels)"
   ]
  },
  {
   "cell_type": "code",
   "execution_count": null,
   "metadata": {},
   "outputs": [],
   "source": [
    "# you can index from 0 to 59999\n",
    "index = 9000\n",
    "\n",
    "# set number of character per row when printing\n",
    "np.set_printoptions(linewidth=320)\n",
    "\n",
    "\n",
    "# print the label and the image\n",
    "print(f\"label : {train_labels[index]}\")\n",
    "print(f\"\\nIMG PIXEL ARRAY :\\n {train_img[index]}\")\n",
    "\n",
    "# visulize the img\n",
    "plt.imshow(train_img[index])\n",
    "\n",
    "# normalize the pixel values of train and test images ( 0 - 1) ranged \n",
    "train_img = train_img / 255.0\n",
    "test_img = test_img / 255.0\n",
    "\n",
    "\n",
    "# build the classification model\n",
    "model = tf.keras.models.Sequential([\n",
    "    keras.layers.Flatten(),\n",
    "    keras.layers.Dense(128, activation='relu'),\n",
    "    keras.layers.Dense(10, activation='softmax')\n",
    "    \n",
    "])\n",
    "\n",
    "# declare simple inputs and convert it into tensors\n",
    "inputs = np.array([[-1.0, 0.0, 1.0, 2.0, 3.0, 4.0]])\n",
    "inputs = tf.convert_to_tensor(inputs)\n",
    "print(f'input to softmax function {inputs.numpy()}')\n",
    "\n",
    "# feed the inputs to a softmax activation function\n",
    "outputs = tf.keras.activations.softmax(inputs)\n",
    "print(f'output of softmax function : {outputs.numpy()}')\n",
    "\n",
    "# get the sum of all values after the softmax\n",
    "sum = tf.reduce_sum(outputs)\n",
    "print(f'sum of outputs : {sum}')\n",
    "\n",
    "# get the index with highest value\n",
    "prediction = np.argmax(outputs)\n",
    "print(f'class with highest probability : {prediction}')\n",
    "\n",
    "\n",
    "model.compile(optimizer='adam',\n",
    "              loss  = 'sparse_categorical_crossentropy',\n",
    "              metrics=['accuracy']\n",
    "              \n",
    "              )\n",
    "\n",
    "model.fit(train_img,train_labels, epochs=5)\n",
    "\n",
    "model.evaluate(test_img,test_labels)\n"
   ]
  }
 ],
 "metadata": {
  "kernelspec": {
   "display_name": "tf_env",
   "language": "python",
   "name": "python3"
  },
  "language_info": {
   "codemirror_mode": {
    "name": "ipython",
    "version": 3
   },
   "file_extension": ".py",
   "mimetype": "text/x-python",
   "name": "python",
   "nbconvert_exporter": "python",
   "pygments_lexer": "ipython3",
   "version": "3.9.20"
  }
 },
 "nbformat": 4,
 "nbformat_minor": 2
}
